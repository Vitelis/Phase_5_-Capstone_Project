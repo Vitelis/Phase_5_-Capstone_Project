{
 "cells": [
  {
   "cell_type": "markdown",
   "metadata": {},
   "source": [
    "# Phase 5 Project: Unlocking Safaricom’s Future: Predicting the Stock Price of Kenya's telecom giant"
   ]
  },
  {
   "cell_type": "markdown",
   "metadata": {},
   "source": [
    "Group 8 Members.\n",
    "- Jackline Njuguna\n",
    "- Vitelis Siocha\n",
    "- Angel Atungire\n",
    "- Elsie Ochieng\n",
    "- Flavine Atieno\n",
    "- Evans Machua"
   ]
  },
  {
   "cell_type": "markdown",
   "metadata": {},
   "source": [
    "### About Safaricom\n",
    "Safaricom is a telecommunications service provider incorporated in Kenya as a limited liability company.\n",
    "Safaricom was formed in 1997 as a fully owned subsidiary of Telkom Kenya. In May 2000, Vodafone Group PLC of the United Kingdom acquired a 40% stake and management responsibility for the company. In 2008, the government offered 25% of its shares to the public through the Nairobi Securities Exchange.\n",
    "\n",
    "### Safaricom Stocks.\n",
    "The current share price of Safaricom Plc (SCOM) is KES 13.90. SCOM closed its last trading day (Monday, January 15, 2024) at 13.90 KES per share on the Nairobi Securities Exchange (NSE).\n",
    "Safaricom is the #1 most traded stock on the Nairobi Securities Exchange over the past three months (Oct 11, 2023 - Jan 15, 2024) therefore our project will help people discover the future value of the stock and gain significant profits.\n",
    "\n",
    "\n"
   ]
  },
  {
   "cell_type": "markdown",
   "metadata": {},
   "source": [
    "### Project Overview\n",
    "#### 1.  \tIntroduction:\n",
    "Our project revolves around leveraging time-series analysis to predict Safaricom's stock prices. Using advanced analytics on historical market data and key macroeconomic factors, we aim to extract crucial insights and build a robust predictive model for future stock prices.\n",
    "#### 2.  \tProblem Statement\n",
    "The challenge lies in the inherent unpredictability of Safaricom's stock movements. Our focus is on constructing a robust predictive model through advanced time-series analysis to unravel critical patterns in Safaricom's historical data. This predictive model aims to offer a reliable forecast of future stock prices, aiding stakeholders in navigating the complex and uncertain financial markets.\n",
    "#### 3.  \tObjectives\n",
    "Main Objectives\n",
    "- Develop a robust time-series forecasting model for Safaricom's stock prices.\n",
    "##### Specific Objectives\n",
    "1. To Identify opportune times to buy and sell Safaricom stocks to maximize returns by analyzing historical data, market trends and economic indicators to pinpoint optimal entry and exit points for various project stakeholders.\n",
    "2. To integrate market sentiment analysis to quantify external factors influencing Safaricom stock prices, leveraging sentiment scores from news, economic indicators, and regulatory changes.\n",
    "3. To conduct sensitivity analysis to assess how inflation rate variations, interest rate, and GDP affect the model's predictions. This can be achieved by simulating different economic scenarios above and understanding how these changes affect stock price forecasts."
   ]
  },
  {
   "cell_type": "markdown",
   "metadata": {},
   "source": [
    "# Data Cleaning"
   ]
  },
  {
   "cell_type": "code",
   "execution_count": 1,
   "metadata": {},
   "outputs": [],
   "source": [
    "#import necessary libraries\n",
    "import pandas as pd\n",
    "import numpy as np\n",
    "import matplotlib.pyplot as plt\n",
    "import seaborn as sns\n",
    "import warnings\n",
    "# Ignore documentation warnings\n",
    "warnings.filterwarnings(\"ignore\", category=UserWarning, module='sphinx')"
   ]
  },
  {
   "cell_type": "markdown",
   "metadata": {},
   "source": [
    "### Load the data and view the dataframes"
   ]
  },
  {
   "cell_type": "code",
   "execution_count": 2,
   "metadata": {},
   "outputs": [
    {
     "data": {
      "text/html": [
       "<div>\n",
       "<style scoped>\n",
       "    .dataframe tbody tr th:only-of-type {\n",
       "        vertical-align: middle;\n",
       "    }\n",
       "\n",
       "    .dataframe tbody tr th {\n",
       "        vertical-align: top;\n",
       "    }\n",
       "\n",
       "    .dataframe thead th {\n",
       "        text-align: right;\n",
       "    }\n",
       "</style>\n",
       "<table border=\"1\" class=\"dataframe\">\n",
       "  <thead>\n",
       "    <tr style=\"text-align: right;\">\n",
       "      <th></th>\n",
       "      <th>Date</th>\n",
       "      <th>Open</th>\n",
       "      <th>High</th>\n",
       "      <th>Low</th>\n",
       "      <th>Close</th>\n",
       "      <th>Volume</th>\n",
       "    </tr>\n",
       "  </thead>\n",
       "  <tbody>\n",
       "    <tr>\n",
       "      <th>0</th>\n",
       "      <td>01/10/24</td>\n",
       "      <td>13.60</td>\n",
       "      <td>14.10</td>\n",
       "      <td>13.60</td>\n",
       "      <td>13.80</td>\n",
       "      <td>4438100</td>\n",
       "    </tr>\n",
       "    <tr>\n",
       "      <th>1</th>\n",
       "      <td>01/09/24</td>\n",
       "      <td>13.85</td>\n",
       "      <td>14.10</td>\n",
       "      <td>13.60</td>\n",
       "      <td>13.65</td>\n",
       "      <td>2192400</td>\n",
       "    </tr>\n",
       "    <tr>\n",
       "      <th>2</th>\n",
       "      <td>01/08/24</td>\n",
       "      <td>13.70</td>\n",
       "      <td>14.00</td>\n",
       "      <td>13.60</td>\n",
       "      <td>13.85</td>\n",
       "      <td>248500</td>\n",
       "    </tr>\n",
       "    <tr>\n",
       "      <th>3</th>\n",
       "      <td>01/05/24</td>\n",
       "      <td>13.80</td>\n",
       "      <td>14.00</td>\n",
       "      <td>13.55</td>\n",
       "      <td>13.60</td>\n",
       "      <td>5622200</td>\n",
       "    </tr>\n",
       "    <tr>\n",
       "      <th>4</th>\n",
       "      <td>01/04/24</td>\n",
       "      <td>13.65</td>\n",
       "      <td>13.80</td>\n",
       "      <td>13.55</td>\n",
       "      <td>13.60</td>\n",
       "      <td>1000500</td>\n",
       "    </tr>\n",
       "    <tr>\n",
       "      <th>...</th>\n",
       "      <td>...</td>\n",
       "      <td>...</td>\n",
       "      <td>...</td>\n",
       "      <td>...</td>\n",
       "      <td>...</td>\n",
       "      <td>...</td>\n",
       "    </tr>\n",
       "    <tr>\n",
       "      <th>3894</th>\n",
       "      <td>06/13/08</td>\n",
       "      <td>7.35</td>\n",
       "      <td>7.45</td>\n",
       "      <td>7.45</td>\n",
       "      <td>7.45</td>\n",
       "      <td>250901500</td>\n",
       "    </tr>\n",
       "    <tr>\n",
       "      <th>3895</th>\n",
       "      <td>06/12/08</td>\n",
       "      <td>7.35</td>\n",
       "      <td>7.35</td>\n",
       "      <td>7.35</td>\n",
       "      <td>7.35</td>\n",
       "      <td>131243703</td>\n",
       "    </tr>\n",
       "    <tr>\n",
       "      <th>3896</th>\n",
       "      <td>06/11/08</td>\n",
       "      <td>7.00</td>\n",
       "      <td>7.00</td>\n",
       "      <td>7.00</td>\n",
       "      <td>7.00</td>\n",
       "      <td>183494797</td>\n",
       "    </tr>\n",
       "    <tr>\n",
       "      <th>3897</th>\n",
       "      <td>06/10/08</td>\n",
       "      <td>6.95</td>\n",
       "      <td>6.95</td>\n",
       "      <td>6.95</td>\n",
       "      <td>6.95</td>\n",
       "      <td>127305797</td>\n",
       "    </tr>\n",
       "    <tr>\n",
       "      <th>3898</th>\n",
       "      <td>06/09/08</td>\n",
       "      <td>7.35</td>\n",
       "      <td>7.35</td>\n",
       "      <td>7.35</td>\n",
       "      <td>7.35</td>\n",
       "      <td>416383094</td>\n",
       "    </tr>\n",
       "  </tbody>\n",
       "</table>\n",
       "<p>3899 rows × 6 columns</p>\n",
       "</div>"
      ],
      "text/plain": [
       "          Date   Open   High    Low   Close     Volume\n",
       "0     01/10/24  13.60  14.10  13.60   13.80    4438100\n",
       "1     01/09/24  13.85  14.10  13.60   13.65    2192400\n",
       "2     01/08/24  13.70  14.00  13.60   13.85     248500\n",
       "3     01/05/24  13.80  14.00  13.55   13.60    5622200\n",
       "4     01/04/24  13.65  13.80  13.55   13.60    1000500\n",
       "...        ...    ...    ...    ...     ...        ...\n",
       "3894  06/13/08   7.35   7.45   7.45    7.45  250901500\n",
       "3895  06/12/08   7.35   7.35   7.35    7.35  131243703\n",
       "3896  06/11/08   7.00   7.00   7.00    7.00  183494797\n",
       "3897  06/10/08   6.95   6.95   6.95    6.95  127305797\n",
       "3898  06/09/08   7.35   7.35   7.35    7.35  416383094\n",
       "\n",
       "[3899 rows x 6 columns]"
      ]
     },
     "execution_count": 2,
     "metadata": {},
     "output_type": "execute_result"
    }
   ],
   "source": [
    "historical_prices_df = pd.read_csv('data/HistoricalPrices.csv')\n",
    "historical_prices_df"
   ]
  },
  {
   "cell_type": "code",
   "execution_count": 3,
   "metadata": {},
   "outputs": [
    {
     "data": {
      "text/html": [
       "<div>\n",
       "<style scoped>\n",
       "    .dataframe tbody tr th:only-of-type {\n",
       "        vertical-align: middle;\n",
       "    }\n",
       "\n",
       "    .dataframe tbody tr th {\n",
       "        vertical-align: top;\n",
       "    }\n",
       "\n",
       "    .dataframe thead th {\n",
       "        text-align: right;\n",
       "    }\n",
       "</style>\n",
       "<table border=\"1\" class=\"dataframe\">\n",
       "  <thead>\n",
       "    <tr style=\"text-align: right;\">\n",
       "      <th></th>\n",
       "      <th>Year</th>\n",
       "      <th>Nominal GDP prices (Ksh Million)</th>\n",
       "      <th>Annual GDP growth (%)</th>\n",
       "      <th>Real GDP prices (Ksh Million)</th>\n",
       "    </tr>\n",
       "  </thead>\n",
       "  <tbody>\n",
       "    <tr>\n",
       "      <th>0</th>\n",
       "      <td>2022</td>\n",
       "      <td>13,483,003</td>\n",
       "      <td>4.8</td>\n",
       "      <td>9,851,329</td>\n",
       "    </tr>\n",
       "    <tr>\n",
       "      <th>1</th>\n",
       "      <td>2021</td>\n",
       "      <td>12,027,662</td>\n",
       "      <td>7.6</td>\n",
       "      <td>9,395,942</td>\n",
       "    </tr>\n",
       "    <tr>\n",
       "      <th>2</th>\n",
       "      <td>2020</td>\n",
       "      <td>10,715,070</td>\n",
       "      <td>-0.3</td>\n",
       "      <td>8,733,060</td>\n",
       "    </tr>\n",
       "    <tr>\n",
       "      <th>3</th>\n",
       "      <td>2019</td>\n",
       "      <td>10,237,727</td>\n",
       "      <td>5.1</td>\n",
       "      <td>8,756,946</td>\n",
       "    </tr>\n",
       "    <tr>\n",
       "      <th>4</th>\n",
       "      <td>2018</td>\n",
       "      <td>9,340,307</td>\n",
       "      <td>5.6</td>\n",
       "      <td>8,330,891</td>\n",
       "    </tr>\n",
       "    <tr>\n",
       "      <th>5</th>\n",
       "      <td>2017</td>\n",
       "      <td>8,483,396</td>\n",
       "      <td>3.8</td>\n",
       "      <td>7,885,521</td>\n",
       "    </tr>\n",
       "    <tr>\n",
       "      <th>6</th>\n",
       "      <td>2016</td>\n",
       "      <td>7,594,064</td>\n",
       "      <td>4.2</td>\n",
       "      <td>7,594,064</td>\n",
       "    </tr>\n",
       "    <tr>\n",
       "      <th>7</th>\n",
       "      <td>2015</td>\n",
       "      <td>6,884,317</td>\n",
       "      <td>5.0</td>\n",
       "      <td>7,287,024</td>\n",
       "    </tr>\n",
       "    <tr>\n",
       "      <th>8</th>\n",
       "      <td>2014</td>\n",
       "      <td>6,003,835</td>\n",
       "      <td>5.0</td>\n",
       "      <td>6,942,157</td>\n",
       "    </tr>\n",
       "    <tr>\n",
       "      <th>9</th>\n",
       "      <td>2013</td>\n",
       "      <td>5,311,322</td>\n",
       "      <td>3.8</td>\n",
       "      <td>6,610,312</td>\n",
       "    </tr>\n",
       "    <tr>\n",
       "      <th>10</th>\n",
       "      <td>2012</td>\n",
       "      <td>4,767,191</td>\n",
       "      <td>4.6</td>\n",
       "      <td>6,368,448</td>\n",
       "    </tr>\n",
       "    <tr>\n",
       "      <th>11</th>\n",
       "      <td>2011</td>\n",
       "      <td>4,162,514</td>\n",
       "      <td>5.1</td>\n",
       "      <td>6,090,206</td>\n",
       "    </tr>\n",
       "    <tr>\n",
       "      <th>12</th>\n",
       "      <td>2010</td>\n",
       "      <td>3,597,630</td>\n",
       "      <td>8.1</td>\n",
       "      <td>5,793,514</td>\n",
       "    </tr>\n",
       "    <tr>\n",
       "      <th>13</th>\n",
       "      <td>2009</td>\n",
       "      <td>3,275,642</td>\n",
       "      <td>2.7</td>\n",
       "      <td>5,361,462</td>\n",
       "    </tr>\n",
       "    <tr>\n",
       "      <th>14</th>\n",
       "      <td>2008</td>\n",
       "      <td>2,107,589</td>\n",
       "      <td>1.5</td>\n",
       "      <td>1,357,262</td>\n",
       "    </tr>\n",
       "    <tr>\n",
       "      <th>15</th>\n",
       "      <td>2007</td>\n",
       "      <td>1,833,511</td>\n",
       "      <td>6.9</td>\n",
       "      <td>1,336,849</td>\n",
       "    </tr>\n",
       "    <tr>\n",
       "      <th>16</th>\n",
       "      <td>2006</td>\n",
       "      <td>1,622,565</td>\n",
       "      <td>6.5</td>\n",
       "      <td>1,249,470</td>\n",
       "    </tr>\n",
       "    <tr>\n",
       "      <th>17</th>\n",
       "      <td>2005</td>\n",
       "      <td>1,415,823</td>\n",
       "      <td>5.7</td>\n",
       "      <td>1,172,784</td>\n",
       "    </tr>\n",
       "    <tr>\n",
       "      <th>18</th>\n",
       "      <td>2004</td>\n",
       "      <td>1,274,328</td>\n",
       "      <td>5.1</td>\n",
       "      <td>1,109,338</td>\n",
       "    </tr>\n",
       "    <tr>\n",
       "      <th>19</th>\n",
       "      <td>2003</td>\n",
       "      <td>1,131,783</td>\n",
       "      <td>2.9</td>\n",
       "      <td>1,055,658</td>\n",
       "    </tr>\n",
       "    <tr>\n",
       "      <th>20</th>\n",
       "      <td>2002</td>\n",
       "      <td>1,035,374</td>\n",
       "      <td>0.5</td>\n",
       "      <td>1,025,583</td>\n",
       "    </tr>\n",
       "    <tr>\n",
       "      <th>21</th>\n",
       "      <td>2001</td>\n",
       "      <td>1,020,022</td>\n",
       "      <td>3.8</td>\n",
       "      <td>1,020,111</td>\n",
       "    </tr>\n",
       "    <tr>\n",
       "      <th>22</th>\n",
       "      <td>2000</td>\n",
       "      <td>967,838</td>\n",
       "      <td>0.0</td>\n",
       "      <td>982,855</td>\n",
       "    </tr>\n",
       "    <tr>\n",
       "      <th>23</th>\n",
       "      <td>0</td>\n",
       "      <td>0</td>\n",
       "      <td>0.0</td>\n",
       "      <td>0</td>\n",
       "    </tr>\n",
       "  </tbody>\n",
       "</table>\n",
       "</div>"
      ],
      "text/plain": [
       "    Year Nominal GDP prices (Ksh Million)  Annual GDP growth (%)  \\\n",
       "0   2022                       13,483,003                    4.8   \n",
       "1   2021                       12,027,662                    7.6   \n",
       "2   2020                       10,715,070                   -0.3   \n",
       "3   2019                       10,237,727                    5.1   \n",
       "4   2018                        9,340,307                    5.6   \n",
       "5   2017                        8,483,396                    3.8   \n",
       "6   2016                        7,594,064                    4.2   \n",
       "7   2015                        6,884,317                    5.0   \n",
       "8   2014                        6,003,835                    5.0   \n",
       "9   2013                        5,311,322                    3.8   \n",
       "10  2012                        4,767,191                    4.6   \n",
       "11  2011                        4,162,514                    5.1   \n",
       "12  2010                        3,597,630                    8.1   \n",
       "13  2009                        3,275,642                    2.7   \n",
       "14  2008                        2,107,589                    1.5   \n",
       "15  2007                        1,833,511                    6.9   \n",
       "16  2006                        1,622,565                    6.5   \n",
       "17  2005                        1,415,823                    5.7   \n",
       "18  2004                        1,274,328                    5.1   \n",
       "19  2003                        1,131,783                    2.9   \n",
       "20  2002                        1,035,374                    0.5   \n",
       "21  2001                        1,020,022                    3.8   \n",
       "22  2000                          967,838                    0.0   \n",
       "23     0                                0                    0.0   \n",
       "\n",
       "   Real GDP prices (Ksh Million)  \n",
       "0                      9,851,329  \n",
       "1                      9,395,942  \n",
       "2                      8,733,060  \n",
       "3                      8,756,946  \n",
       "4                      8,330,891  \n",
       "5                      7,885,521  \n",
       "6                      7,594,064  \n",
       "7                      7,287,024  \n",
       "8                      6,942,157  \n",
       "9                      6,610,312  \n",
       "10                     6,368,448  \n",
       "11                     6,090,206  \n",
       "12                     5,793,514  \n",
       "13                     5,361,462  \n",
       "14                     1,357,262  \n",
       "15                     1,336,849  \n",
       "16                     1,249,470  \n",
       "17                     1,172,784  \n",
       "18                     1,109,338  \n",
       "19                     1,055,658  \n",
       "20                     1,025,583  \n",
       "21                     1,020,111  \n",
       "22                       982,855  \n",
       "23                             0  "
      ]
     },
     "execution_count": 3,
     "metadata": {},
     "output_type": "execute_result"
    }
   ],
   "source": [
    "annual_GDP_df = pd.read_csv('data/Annual GDP.csv')\n",
    "annual_GDP_df"
   ]
  },
  {
   "cell_type": "code",
   "execution_count": 4,
   "metadata": {},
   "outputs": [
    {
     "data": {
      "text/html": [
       "<div>\n",
       "<style scoped>\n",
       "    .dataframe tbody tr th:only-of-type {\n",
       "        vertical-align: middle;\n",
       "    }\n",
       "\n",
       "    .dataframe tbody tr th {\n",
       "        vertical-align: top;\n",
       "    }\n",
       "\n",
       "    .dataframe thead th {\n",
       "        text-align: right;\n",
       "    }\n",
       "</style>\n",
       "<table border=\"1\" class=\"dataframe\">\n",
       "  <thead>\n",
       "    <tr style=\"text-align: right;\">\n",
       "      <th></th>\n",
       "      <th>Date</th>\n",
       "      <th>Rate</th>\n",
       "    </tr>\n",
       "  </thead>\n",
       "  <tbody>\n",
       "    <tr>\n",
       "      <th>0</th>\n",
       "      <td>05/12/2023</td>\n",
       "      <td>12.5</td>\n",
       "    </tr>\n",
       "    <tr>\n",
       "      <th>1</th>\n",
       "      <td>03/10/2023</td>\n",
       "      <td>10.5</td>\n",
       "    </tr>\n",
       "    <tr>\n",
       "      <th>2</th>\n",
       "      <td>09/08/2023</td>\n",
       "      <td>10.5</td>\n",
       "    </tr>\n",
       "    <tr>\n",
       "      <th>3</th>\n",
       "      <td>26/06/2023</td>\n",
       "      <td>10.5</td>\n",
       "    </tr>\n",
       "    <tr>\n",
       "      <th>4</th>\n",
       "      <td>29/05/2023</td>\n",
       "      <td>9.5</td>\n",
       "    </tr>\n",
       "    <tr>\n",
       "      <th>...</th>\n",
       "      <td>...</td>\n",
       "      <td>...</td>\n",
       "    </tr>\n",
       "    <tr>\n",
       "      <th>103</th>\n",
       "      <td>01/12/2008</td>\n",
       "      <td>8.5</td>\n",
       "    </tr>\n",
       "    <tr>\n",
       "      <th>104</th>\n",
       "      <td>29/10/2008</td>\n",
       "      <td>9.0</td>\n",
       "    </tr>\n",
       "    <tr>\n",
       "      <th>105</th>\n",
       "      <td>01/10/2008</td>\n",
       "      <td>9.0</td>\n",
       "    </tr>\n",
       "    <tr>\n",
       "      <th>106</th>\n",
       "      <td>29/09/2008</td>\n",
       "      <td>9.0</td>\n",
       "    </tr>\n",
       "    <tr>\n",
       "      <th>107</th>\n",
       "      <td>06/08/2008</td>\n",
       "      <td>9.0</td>\n",
       "    </tr>\n",
       "  </tbody>\n",
       "</table>\n",
       "<p>108 rows × 2 columns</p>\n",
       "</div>"
      ],
      "text/plain": [
       "           Date  Rate\n",
       "0    05/12/2023  12.5\n",
       "1    03/10/2023  10.5\n",
       "2    09/08/2023  10.5\n",
       "3    26/06/2023  10.5\n",
       "4    29/05/2023   9.5\n",
       "..          ...   ...\n",
       "103  01/12/2008   8.5\n",
       "104  29/10/2008   9.0\n",
       "105  01/10/2008   9.0\n",
       "106  29/09/2008   9.0\n",
       "107  06/08/2008   9.0\n",
       "\n",
       "[108 rows x 2 columns]"
      ]
     },
     "execution_count": 4,
     "metadata": {},
     "output_type": "execute_result"
    }
   ],
   "source": [
    "interest_rate_df = pd.read_csv('data/InterestRates.csv')\n",
    "interest_rate_df "
   ]
  },
  {
   "cell_type": "code",
   "execution_count": 5,
   "metadata": {},
   "outputs": [
    {
     "data": {
      "text/html": [
       "<div>\n",
       "<style scoped>\n",
       "    .dataframe tbody tr th:only-of-type {\n",
       "        vertical-align: middle;\n",
       "    }\n",
       "\n",
       "    .dataframe tbody tr th {\n",
       "        vertical-align: top;\n",
       "    }\n",
       "\n",
       "    .dataframe thead th {\n",
       "        text-align: right;\n",
       "    }\n",
       "</style>\n",
       "<table border=\"1\" class=\"dataframe\">\n",
       "  <thead>\n",
       "    <tr style=\"text-align: right;\">\n",
       "      <th></th>\n",
       "      <th>Year</th>\n",
       "      <th>Month</th>\n",
       "      <th>Annual Average Inflation</th>\n",
       "      <th>12-Month Inflation</th>\n",
       "    </tr>\n",
       "  </thead>\n",
       "  <tbody>\n",
       "    <tr>\n",
       "      <th>0</th>\n",
       "      <td>2023</td>\n",
       "      <td>December</td>\n",
       "      <td>7.67</td>\n",
       "      <td>6.63</td>\n",
       "    </tr>\n",
       "    <tr>\n",
       "      <th>1</th>\n",
       "      <td>2023</td>\n",
       "      <td>November</td>\n",
       "      <td>7.87</td>\n",
       "      <td>6.80</td>\n",
       "    </tr>\n",
       "    <tr>\n",
       "      <th>2</th>\n",
       "      <td>2023</td>\n",
       "      <td>October</td>\n",
       "      <td>8.10</td>\n",
       "      <td>6.92</td>\n",
       "    </tr>\n",
       "    <tr>\n",
       "      <th>3</th>\n",
       "      <td>2023</td>\n",
       "      <td>September</td>\n",
       "      <td>8.32</td>\n",
       "      <td>6.78</td>\n",
       "    </tr>\n",
       "    <tr>\n",
       "      <th>4</th>\n",
       "      <td>2023</td>\n",
       "      <td>August</td>\n",
       "      <td>8.52</td>\n",
       "      <td>6.73</td>\n",
       "    </tr>\n",
       "    <tr>\n",
       "      <th>...</th>\n",
       "      <td>...</td>\n",
       "      <td>...</td>\n",
       "      <td>...</td>\n",
       "      <td>...</td>\n",
       "    </tr>\n",
       "    <tr>\n",
       "      <th>224</th>\n",
       "      <td>2005</td>\n",
       "      <td>May</td>\n",
       "      <td>14.61</td>\n",
       "      <td>14.78</td>\n",
       "    </tr>\n",
       "    <tr>\n",
       "      <th>225</th>\n",
       "      <td>2005</td>\n",
       "      <td>April</td>\n",
       "      <td>13.76</td>\n",
       "      <td>16.02</td>\n",
       "    </tr>\n",
       "    <tr>\n",
       "      <th>226</th>\n",
       "      <td>2005</td>\n",
       "      <td>March</td>\n",
       "      <td>13.07</td>\n",
       "      <td>14.15</td>\n",
       "    </tr>\n",
       "    <tr>\n",
       "      <th>227</th>\n",
       "      <td>2005</td>\n",
       "      <td>February</td>\n",
       "      <td>12.60</td>\n",
       "      <td>13.94</td>\n",
       "    </tr>\n",
       "    <tr>\n",
       "      <th>228</th>\n",
       "      <td>2005</td>\n",
       "      <td>January</td>\n",
       "      <td>12.27</td>\n",
       "      <td>14.87</td>\n",
       "    </tr>\n",
       "  </tbody>\n",
       "</table>\n",
       "<p>229 rows × 4 columns</p>\n",
       "</div>"
      ],
      "text/plain": [
       "     Year      Month  Annual Average Inflation  12-Month Inflation\n",
       "0    2023   December                      7.67                6.63\n",
       "1    2023   November                      7.87                6.80\n",
       "2    2023    October                      8.10                6.92\n",
       "3    2023  September                      8.32                6.78\n",
       "4    2023     August                      8.52                6.73\n",
       "..    ...        ...                       ...                 ...\n",
       "224  2005        May                     14.61               14.78\n",
       "225  2005      April                     13.76               16.02\n",
       "226  2005      March                     13.07               14.15\n",
       "227  2005   February                     12.60               13.94\n",
       "228  2005    January                     12.27               14.87\n",
       "\n",
       "[229 rows x 4 columns]"
      ]
     },
     "execution_count": 5,
     "metadata": {},
     "output_type": "execute_result"
    }
   ],
   "source": [
    "inflation_df = pd.read_csv('data/InflationRates.csv')\n",
    "inflation_df"
   ]
  },
  {
   "cell_type": "code",
   "execution_count": 6,
   "metadata": {},
   "outputs": [
    {
     "data": {
      "text/html": [
       "<div>\n",
       "<style scoped>\n",
       "    .dataframe tbody tr th:only-of-type {\n",
       "        vertical-align: middle;\n",
       "    }\n",
       "\n",
       "    .dataframe tbody tr th {\n",
       "        vertical-align: top;\n",
       "    }\n",
       "\n",
       "    .dataframe thead th {\n",
       "        text-align: right;\n",
       "    }\n",
       "</style>\n",
       "<table border=\"1\" class=\"dataframe\">\n",
       "  <thead>\n",
       "    <tr style=\"text-align: right;\">\n",
       "      <th></th>\n",
       "      <th>date</th>\n",
       "      <th>GDP Growth (%)</th>\n",
       "      <th>Annual Change</th>\n",
       "      <th></th>\n",
       "    </tr>\n",
       "  </thead>\n",
       "  <tbody>\n",
       "    <tr>\n",
       "      <th>0</th>\n",
       "      <td>31/12/1961</td>\n",
       "      <td>-7.7746</td>\n",
       "      <td>NaN</td>\n",
       "      <td>NaN</td>\n",
       "    </tr>\n",
       "    <tr>\n",
       "      <th>1</th>\n",
       "      <td>31/12/1962</td>\n",
       "      <td>9.4574</td>\n",
       "      <td>17.23</td>\n",
       "      <td>NaN</td>\n",
       "    </tr>\n",
       "    <tr>\n",
       "      <th>2</th>\n",
       "      <td>31/12/1963</td>\n",
       "      <td>8.7783</td>\n",
       "      <td>-0.68</td>\n",
       "      <td>NaN</td>\n",
       "    </tr>\n",
       "    <tr>\n",
       "      <th>3</th>\n",
       "      <td>31/12/1964</td>\n",
       "      <td>4.9645</td>\n",
       "      <td>-3.81</td>\n",
       "      <td>NaN</td>\n",
       "    </tr>\n",
       "    <tr>\n",
       "      <th>4</th>\n",
       "      <td>31/12/1965</td>\n",
       "      <td>2.0091</td>\n",
       "      <td>-2.96</td>\n",
       "      <td>NaN</td>\n",
       "    </tr>\n",
       "    <tr>\n",
       "      <th>...</th>\n",
       "      <td>...</td>\n",
       "      <td>...</td>\n",
       "      <td>...</td>\n",
       "      <td>...</td>\n",
       "    </tr>\n",
       "    <tr>\n",
       "      <th>57</th>\n",
       "      <td>31/12/2018</td>\n",
       "      <td>5.6479</td>\n",
       "      <td>1.81</td>\n",
       "      <td>NaN</td>\n",
       "    </tr>\n",
       "    <tr>\n",
       "      <th>58</th>\n",
       "      <td>31/12/2019</td>\n",
       "      <td>5.1142</td>\n",
       "      <td>-0.53</td>\n",
       "      <td>NaN</td>\n",
       "    </tr>\n",
       "    <tr>\n",
       "      <th>59</th>\n",
       "      <td>31/12/2020</td>\n",
       "      <td>-0.2728</td>\n",
       "      <td>-5.39</td>\n",
       "      <td>NaN</td>\n",
       "    </tr>\n",
       "    <tr>\n",
       "      <th>60</th>\n",
       "      <td>31/12/2021</td>\n",
       "      <td>7.5905</td>\n",
       "      <td>7.86</td>\n",
       "      <td>NaN</td>\n",
       "    </tr>\n",
       "    <tr>\n",
       "      <th>61</th>\n",
       "      <td>31/12/2022</td>\n",
       "      <td>4.8466</td>\n",
       "      <td>-2.74</td>\n",
       "      <td>NaN</td>\n",
       "    </tr>\n",
       "  </tbody>\n",
       "</table>\n",
       "<p>62 rows × 4 columns</p>\n",
       "</div>"
      ],
      "text/plain": [
       "          date   GDP Growth (%)   Annual Change    \n",
       "0   31/12/1961          -7.7746             NaN NaN\n",
       "1   31/12/1962           9.4574           17.23 NaN\n",
       "2   31/12/1963           8.7783           -0.68 NaN\n",
       "3   31/12/1964           4.9645           -3.81 NaN\n",
       "4   31/12/1965           2.0091           -2.96 NaN\n",
       "..         ...              ...             ...  ..\n",
       "57  31/12/2018           5.6479            1.81 NaN\n",
       "58  31/12/2019           5.1142           -0.53 NaN\n",
       "59  31/12/2020          -0.2728           -5.39 NaN\n",
       "60  31/12/2021           7.5905            7.86 NaN\n",
       "61  31/12/2022           4.8466           -2.74 NaN\n",
       "\n",
       "[62 rows x 4 columns]"
      ]
     },
     "execution_count": 6,
     "metadata": {},
     "output_type": "execute_result"
    }
   ],
   "source": [
    "gdp_growth_df = pd.read_csv('data/kenya-gdp-growth-rate.csv')\n",
    "gdp_growth_df"
   ]
  },
  {
   "cell_type": "code",
   "execution_count": 7,
   "metadata": {},
   "outputs": [
    {
     "data": {
      "text/html": [
       "<div>\n",
       "<style scoped>\n",
       "    .dataframe tbody tr th:only-of-type {\n",
       "        vertical-align: middle;\n",
       "    }\n",
       "\n",
       "    .dataframe tbody tr th {\n",
       "        vertical-align: top;\n",
       "    }\n",
       "\n",
       "    .dataframe thead th {\n",
       "        text-align: right;\n",
       "    }\n",
       "</style>\n",
       "<table border=\"1\" class=\"dataframe\">\n",
       "  <thead>\n",
       "    <tr style=\"text-align: right;\">\n",
       "      <th></th>\n",
       "      <th>Unnamed: 0</th>\n",
       "      <th>GDP</th>\n",
       "      <th>Per Capita</th>\n",
       "      <th>Growth Rate</th>\n",
       "    </tr>\n",
       "  </thead>\n",
       "  <tbody>\n",
       "    <tr>\n",
       "      <th>0</th>\n",
       "      <td>date</td>\n",
       "      <td>Billions of US $</td>\n",
       "      <td>US $</td>\n",
       "      <td>Annual % Change</td>\n",
       "    </tr>\n",
       "    <tr>\n",
       "      <th>1</th>\n",
       "      <td>31/12/1960</td>\n",
       "      <td>0.791265459</td>\n",
       "      <td>102.0799</td>\n",
       "      <td>NaN</td>\n",
       "    </tr>\n",
       "    <tr>\n",
       "      <th>2</th>\n",
       "      <td>31/12/1961</td>\n",
       "      <td>0.792959472</td>\n",
       "      <td>98.5353</td>\n",
       "      <td>-7.7746</td>\n",
       "    </tr>\n",
       "    <tr>\n",
       "      <th>3</th>\n",
       "      <td>31/12/1962</td>\n",
       "      <td>0.8681114</td>\n",
       "      <td>103.7967</td>\n",
       "      <td>9.4574</td>\n",
       "    </tr>\n",
       "    <tr>\n",
       "      <th>4</th>\n",
       "      <td>31/12/1963</td>\n",
       "      <td>0.926589349</td>\n",
       "      <td>106.5388</td>\n",
       "      <td>8.7783</td>\n",
       "    </tr>\n",
       "    <tr>\n",
       "      <th>...</th>\n",
       "      <td>...</td>\n",
       "      <td>...</td>\n",
       "      <td>...</td>\n",
       "      <td>...</td>\n",
       "    </tr>\n",
       "    <tr>\n",
       "      <th>59</th>\n",
       "      <td>31/12/2018</td>\n",
       "      <td>92.20297994</td>\n",
       "      <td>1845.7834</td>\n",
       "      <td>5.6479</td>\n",
       "    </tr>\n",
       "    <tr>\n",
       "      <th>60</th>\n",
       "      <td>31/12/2019</td>\n",
       "      <td>100.3784358</td>\n",
       "      <td>1970.0801</td>\n",
       "      <td>5.1142</td>\n",
       "    </tr>\n",
       "    <tr>\n",
       "      <th>61</th>\n",
       "      <td>31/12/2020</td>\n",
       "      <td>100.6575056</td>\n",
       "      <td>1936.2508</td>\n",
       "      <td>-0.2728</td>\n",
       "    </tr>\n",
       "    <tr>\n",
       "      <th>62</th>\n",
       "      <td>31/12/2021</td>\n",
       "      <td>109.7036593</td>\n",
       "      <td>2069.6611</td>\n",
       "      <td>7.5905</td>\n",
       "    </tr>\n",
       "    <tr>\n",
       "      <th>63</th>\n",
       "      <td>31/12/2022</td>\n",
       "      <td>113.4200082</td>\n",
       "      <td>2099.3019</td>\n",
       "      <td>4.8466</td>\n",
       "    </tr>\n",
       "  </tbody>\n",
       "</table>\n",
       "<p>64 rows × 4 columns</p>\n",
       "</div>"
      ],
      "text/plain": [
       "    Unnamed: 0                GDP  Per Capita       Growth Rate\n",
       "0         date   Billions of US $        US $   Annual % Change\n",
       "1   31/12/1960        0.791265459    102.0799               NaN\n",
       "2   31/12/1961        0.792959472     98.5353           -7.7746\n",
       "3   31/12/1962          0.8681114    103.7967            9.4574\n",
       "4   31/12/1963        0.926589349    106.5388            8.7783\n",
       "..         ...                ...         ...               ...\n",
       "59  31/12/2018        92.20297994   1845.7834            5.6479\n",
       "60  31/12/2019        100.3784358   1970.0801            5.1142\n",
       "61  31/12/2020        100.6575056   1936.2508           -0.2728\n",
       "62  31/12/2021        109.7036593   2069.6611            7.5905\n",
       "63  31/12/2022        113.4200082   2099.3019            4.8466\n",
       "\n",
       "[64 rows x 4 columns]"
      ]
     },
     "execution_count": 7,
     "metadata": {},
     "output_type": "execute_result"
    }
   ],
   "source": [
    "economic_growth_df = pd.read_csv('data/kenya-economic-growth-rate.csv')\n",
    "economic_growth_df"
   ]
  },
  {
   "cell_type": "markdown",
   "metadata": {},
   "source": [
    "### View the data types"
   ]
  },
  {
   "cell_type": "code",
   "execution_count": 8,
   "metadata": {},
   "outputs": [
    {
     "data": {
      "text/plain": [
       "Unnamed: 0      object\n",
       " GDP            object\n",
       " Per Capita     object\n",
       " Growth Rate    object\n",
       "dtype: object"
      ]
     },
     "execution_count": 8,
     "metadata": {},
     "output_type": "execute_result"
    }
   ],
   "source": [
    "economic_growth_df.dtypes"
   ]
  },
  {
   "cell_type": "code",
   "execution_count": 9,
   "metadata": {},
   "outputs": [
    {
     "data": {
      "text/plain": [
       "date                object\n",
       " GDP Growth (%)    float64\n",
       " Annual Change     float64\n",
       "                   float64\n",
       "dtype: object"
      ]
     },
     "execution_count": 9,
     "metadata": {},
     "output_type": "execute_result"
    }
   ],
   "source": [
    "gdp_growth_df.dtypes"
   ]
  },
  {
   "cell_type": "code",
   "execution_count": 10,
   "metadata": {},
   "outputs": [
    {
     "data": {
      "text/plain": [
       "Date     object\n",
       "Rate    float64\n",
       "dtype: object"
      ]
     },
     "execution_count": 10,
     "metadata": {},
     "output_type": "execute_result"
    }
   ],
   "source": [
    "interest_rate_df.dtypes"
   ]
  },
  {
   "cell_type": "code",
   "execution_count": 11,
   "metadata": {},
   "outputs": [
    {
     "data": {
      "text/plain": [
       "Year                          int64\n",
       "Month                        object\n",
       "Annual Average Inflation    float64\n",
       "12-Month Inflation          float64\n",
       "dtype: object"
      ]
     },
     "execution_count": 11,
     "metadata": {},
     "output_type": "execute_result"
    }
   ],
   "source": [
    "inflation_df.dtypes"
   ]
  },
  {
   "cell_type": "code",
   "execution_count": 12,
   "metadata": {},
   "outputs": [
    {
     "data": {
      "text/plain": [
       "Year                                  int64\n",
       "Nominal GDP prices (Ksh Million)     object\n",
       "Annual GDP growth (%)               float64\n",
       "Real GDP prices (Ksh Million)        object\n",
       "dtype: object"
      ]
     },
     "execution_count": 12,
     "metadata": {},
     "output_type": "execute_result"
    }
   ],
   "source": [
    "annual_GDP_df.dtypes"
   ]
  },
  {
   "cell_type": "code",
   "execution_count": 13,
   "metadata": {},
   "outputs": [
    {
     "data": {
      "text/plain": [
       "Date        object\n",
       " Open      float64\n",
       " High      float64\n",
       " Low       float64\n",
       " Close     float64\n",
       " Volume      int64\n",
       "dtype: object"
      ]
     },
     "execution_count": 13,
     "metadata": {},
     "output_type": "execute_result"
    }
   ],
   "source": [
    "historical_prices_df.dtypes"
   ]
  },
  {
   "cell_type": "markdown",
   "metadata": {},
   "source": [
    "### Check for missing values"
   ]
  },
  {
   "cell_type": "code",
   "execution_count": 14,
   "metadata": {},
   "outputs": [
    {
     "data": {
      "text/plain": [
       "Date       0\n",
       " Open      0\n",
       " High      0\n",
       " Low       0\n",
       " Close     0\n",
       " Volume    0\n",
       "dtype: int64"
      ]
     },
     "execution_count": 14,
     "metadata": {},
     "output_type": "execute_result"
    }
   ],
   "source": [
    "historical_prices_df.isnull().sum()"
   ]
  },
  {
   "cell_type": "code",
   "execution_count": 15,
   "metadata": {},
   "outputs": [
    {
     "data": {
      "text/plain": [
       "Date    0\n",
       "Rate    0\n",
       "dtype: int64"
      ]
     },
     "execution_count": 15,
     "metadata": {},
     "output_type": "execute_result"
    }
   ],
   "source": [
    "interest_rate_df.isnull().sum()"
   ]
  },
  {
   "cell_type": "code",
   "execution_count": 16,
   "metadata": {},
   "outputs": [
    {
     "data": {
      "text/plain": [
       "Year                                0\n",
       "Nominal GDP prices (Ksh Million)    0\n",
       "Annual GDP growth (%)               0\n",
       "Real GDP prices (Ksh Million)       0\n",
       "dtype: int64"
      ]
     },
     "execution_count": 16,
     "metadata": {},
     "output_type": "execute_result"
    }
   ],
   "source": [
    "annual_GDP_df.isnull().sum()"
   ]
  },
  {
   "cell_type": "code",
   "execution_count": 17,
   "metadata": {},
   "outputs": [
    {
     "data": {
      "text/plain": [
       "Year                        0\n",
       "Month                       0\n",
       "Annual Average Inflation    0\n",
       "12-Month Inflation          0\n",
       "dtype: int64"
      ]
     },
     "execution_count": 17,
     "metadata": {},
     "output_type": "execute_result"
    }
   ],
   "source": [
    "inflation_df.isnull().sum()"
   ]
  },
  {
   "cell_type": "code",
   "execution_count": 18,
   "metadata": {},
   "outputs": [
    {
     "data": {
      "text/plain": [
       "date                0\n",
       " GDP Growth (%)     0\n",
       " Annual Change      1\n",
       "                   62\n",
       "dtype: int64"
      ]
     },
     "execution_count": 18,
     "metadata": {},
     "output_type": "execute_result"
    }
   ],
   "source": [
    "gdp_growth_df.isnull().sum()"
   ]
  },
  {
   "cell_type": "code",
   "execution_count": 19,
   "metadata": {},
   "outputs": [
    {
     "data": {
      "text/plain": [
       "Unnamed: 0      0\n",
       " GDP            0\n",
       " Per Capita     0\n",
       " Growth Rate    1\n",
       "dtype: int64"
      ]
     },
     "execution_count": 19,
     "metadata": {},
     "output_type": "execute_result"
    }
   ],
   "source": [
    "economic_growth_df.isnull().sum()"
   ]
  },
  {
   "cell_type": "markdown",
   "metadata": {},
   "source": [
    "### Checking for Duplicates"
   ]
  },
  {
   "cell_type": "code",
   "execution_count": 20,
   "metadata": {},
   "outputs": [
    {
     "data": {
      "text/plain": [
       "0"
      ]
     },
     "execution_count": 20,
     "metadata": {},
     "output_type": "execute_result"
    }
   ],
   "source": [
    "sum(historical_prices_df.duplicated())"
   ]
  },
  {
   "cell_type": "code",
   "execution_count": 21,
   "metadata": {},
   "outputs": [
    {
     "data": {
      "text/plain": [
       "0"
      ]
     },
     "execution_count": 21,
     "metadata": {},
     "output_type": "execute_result"
    }
   ],
   "source": [
    "sum(economic_growth_df.duplicated())"
   ]
  },
  {
   "cell_type": "code",
   "execution_count": 22,
   "metadata": {},
   "outputs": [
    {
     "data": {
      "text/plain": [
       "0"
      ]
     },
     "execution_count": 22,
     "metadata": {},
     "output_type": "execute_result"
    }
   ],
   "source": [
    "sum(gdp_growth_df.duplicated())"
   ]
  },
  {
   "cell_type": "code",
   "execution_count": 23,
   "metadata": {},
   "outputs": [
    {
     "data": {
      "text/plain": [
       "1"
      ]
     },
     "execution_count": 23,
     "metadata": {},
     "output_type": "execute_result"
    }
   ],
   "source": [
    "sum(inflation_df.duplicated())"
   ]
  },
  {
   "cell_type": "code",
   "execution_count": 24,
   "metadata": {},
   "outputs": [
    {
     "data": {
      "text/plain": [
       "2"
      ]
     },
     "execution_count": 24,
     "metadata": {},
     "output_type": "execute_result"
    }
   ],
   "source": [
    "sum(interest_rate_df.duplicated())"
   ]
  },
  {
   "cell_type": "code",
   "execution_count": 25,
   "metadata": {},
   "outputs": [
    {
     "data": {
      "text/plain": [
       "0"
      ]
     },
     "execution_count": 25,
     "metadata": {},
     "output_type": "execute_result"
    }
   ],
   "source": [
    "sum(annual_GDP_df.duplicated())"
   ]
  },
  {
   "cell_type": "markdown",
   "metadata": {},
   "source": [
    "### Checking the Unique Values"
   ]
  },
  {
   "cell_type": "code",
   "execution_count": 26,
   "metadata": {},
   "outputs": [
    {
     "data": {
      "text/plain": [
       "array([3899,  650,  644,  643,  689, 3857], dtype=int64)"
      ]
     },
     "execution_count": 26,
     "metadata": {},
     "output_type": "execute_result"
    }
   ],
   "source": [
    "historical_prices_df.nunique().values"
   ]
  },
  {
   "cell_type": "code",
   "execution_count": 27,
   "metadata": {},
   "outputs": [
    {
     "data": {
      "text/plain": [
       "array([64, 64, 64, 63], dtype=int64)"
      ]
     },
     "execution_count": 27,
     "metadata": {},
     "output_type": "execute_result"
    }
   ],
   "source": [
    "economic_growth_df.nunique().values"
   ]
  },
  {
   "cell_type": "code",
   "execution_count": 28,
   "metadata": {},
   "outputs": [
    {
     "data": {
      "text/plain": [
       "array([62, 62, 61,  0], dtype=int64)"
      ]
     },
     "execution_count": 28,
     "metadata": {},
     "output_type": "execute_result"
    }
   ],
   "source": [
    "gdp_growth_df.nunique().values"
   ]
  },
  {
   "cell_type": "code",
   "execution_count": 29,
   "metadata": {},
   "outputs": [
    {
     "data": {
      "text/plain": [
       "array([ 19,  12, 196, 200], dtype=int64)"
      ]
     },
     "execution_count": 29,
     "metadata": {},
     "output_type": "execute_result"
    }
   ],
   "source": [
    "inflation_df.nunique().values"
   ]
  },
  {
   "cell_type": "code",
   "execution_count": 30,
   "metadata": {},
   "outputs": [
    {
     "data": {
      "text/plain": [
       "array([106,  22], dtype=int64)"
      ]
     },
     "execution_count": 30,
     "metadata": {},
     "output_type": "execute_result"
    }
   ],
   "source": [
    "interest_rate_df.nunique().values"
   ]
  },
  {
   "cell_type": "code",
   "execution_count": 31,
   "metadata": {},
   "outputs": [
    {
     "data": {
      "text/plain": [
       "array([24, 24, 18, 24], dtype=int64)"
      ]
     },
     "execution_count": 31,
     "metadata": {},
     "output_type": "execute_result"
    }
   ],
   "source": [
    "annual_GDP_df.nunique().values"
   ]
  },
  {
   "cell_type": "markdown",
   "metadata": {},
   "source": [
    "### Overview of distribution and central tendency of the data"
   ]
  },
  {
   "cell_type": "code",
   "execution_count": 32,
   "metadata": {},
   "outputs": [
    {
     "data": {
      "text/html": [
       "<div>\n",
       "<style scoped>\n",
       "    .dataframe tbody tr th:only-of-type {\n",
       "        vertical-align: middle;\n",
       "    }\n",
       "\n",
       "    .dataframe tbody tr th {\n",
       "        vertical-align: top;\n",
       "    }\n",
       "\n",
       "    .dataframe thead th {\n",
       "        text-align: right;\n",
       "    }\n",
       "</style>\n",
       "<table border=\"1\" class=\"dataframe\">\n",
       "  <thead>\n",
       "    <tr style=\"text-align: right;\">\n",
       "      <th></th>\n",
       "      <th>Open</th>\n",
       "      <th>High</th>\n",
       "      <th>Low</th>\n",
       "      <th>Close</th>\n",
       "      <th>Volume</th>\n",
       "    </tr>\n",
       "  </thead>\n",
       "  <tbody>\n",
       "    <tr>\n",
       "      <th>count</th>\n",
       "      <td>3899.000000</td>\n",
       "      <td>3899.000000</td>\n",
       "      <td>3899.000000</td>\n",
       "      <td>3899.000000</td>\n",
       "      <td>3.899000e+03</td>\n",
       "    </tr>\n",
       "    <tr>\n",
       "      <th>mean</th>\n",
       "      <td>17.151949</td>\n",
       "      <td>17.359400</td>\n",
       "      <td>16.917404</td>\n",
       "      <td>17.108066</td>\n",
       "      <td>1.102999e+07</td>\n",
       "    </tr>\n",
       "    <tr>\n",
       "      <th>std</th>\n",
       "      <td>11.506492</td>\n",
       "      <td>11.644272</td>\n",
       "      <td>11.334894</td>\n",
       "      <td>11.473916</td>\n",
       "      <td>1.554003e+07</td>\n",
       "    </tr>\n",
       "    <tr>\n",
       "      <th>min</th>\n",
       "      <td>2.550000</td>\n",
       "      <td>2.550000</td>\n",
       "      <td>2.550000</td>\n",
       "      <td>2.550000</td>\n",
       "      <td>1.028000e+05</td>\n",
       "    </tr>\n",
       "    <tr>\n",
       "      <th>25%</th>\n",
       "      <td>5.400000</td>\n",
       "      <td>5.450000</td>\n",
       "      <td>5.400000</td>\n",
       "      <td>5.400000</td>\n",
       "      <td>3.476100e+06</td>\n",
       "    </tr>\n",
       "    <tr>\n",
       "      <th>50%</th>\n",
       "      <td>16.000000</td>\n",
       "      <td>16.200000</td>\n",
       "      <td>15.750000</td>\n",
       "      <td>15.950000</td>\n",
       "      <td>7.050400e+06</td>\n",
       "    </tr>\n",
       "    <tr>\n",
       "      <th>75%</th>\n",
       "      <td>27.275000</td>\n",
       "      <td>27.675000</td>\n",
       "      <td>26.950000</td>\n",
       "      <td>27.175000</td>\n",
       "      <td>1.315465e+07</td>\n",
       "    </tr>\n",
       "    <tr>\n",
       "      <th>max</th>\n",
       "      <td>45.000000</td>\n",
       "      <td>45.250000</td>\n",
       "      <td>44.000000</td>\n",
       "      <td>44.950000</td>\n",
       "      <td>4.163831e+08</td>\n",
       "    </tr>\n",
       "  </tbody>\n",
       "</table>\n",
       "</div>"
      ],
      "text/plain": [
       "              Open         High          Low        Close        Volume\n",
       "count  3899.000000  3899.000000  3899.000000  3899.000000  3.899000e+03\n",
       "mean     17.151949    17.359400    16.917404    17.108066  1.102999e+07\n",
       "std      11.506492    11.644272    11.334894    11.473916  1.554003e+07\n",
       "min       2.550000     2.550000     2.550000     2.550000  1.028000e+05\n",
       "25%       5.400000     5.450000     5.400000     5.400000  3.476100e+06\n",
       "50%      16.000000    16.200000    15.750000    15.950000  7.050400e+06\n",
       "75%      27.275000    27.675000    26.950000    27.175000  1.315465e+07\n",
       "max      45.000000    45.250000    44.000000    44.950000  4.163831e+08"
      ]
     },
     "execution_count": 32,
     "metadata": {},
     "output_type": "execute_result"
    }
   ],
   "source": [
    "historical_prices_df.describe()"
   ]
  },
  {
   "cell_type": "code",
   "execution_count": 33,
   "metadata": {},
   "outputs": [
    {
     "data": {
      "text/html": [
       "<div>\n",
       "<style scoped>\n",
       "    .dataframe tbody tr th:only-of-type {\n",
       "        vertical-align: middle;\n",
       "    }\n",
       "\n",
       "    .dataframe tbody tr th {\n",
       "        vertical-align: top;\n",
       "    }\n",
       "\n",
       "    .dataframe thead th {\n",
       "        text-align: right;\n",
       "    }\n",
       "</style>\n",
       "<table border=\"1\" class=\"dataframe\">\n",
       "  <thead>\n",
       "    <tr style=\"text-align: right;\">\n",
       "      <th></th>\n",
       "      <th>Unnamed: 0</th>\n",
       "      <th>GDP</th>\n",
       "      <th>Per Capita</th>\n",
       "      <th>Growth Rate</th>\n",
       "    </tr>\n",
       "  </thead>\n",
       "  <tbody>\n",
       "    <tr>\n",
       "      <th>count</th>\n",
       "      <td>64</td>\n",
       "      <td>64</td>\n",
       "      <td>64</td>\n",
       "      <td>63</td>\n",
       "    </tr>\n",
       "    <tr>\n",
       "      <th>unique</th>\n",
       "      <td>64</td>\n",
       "      <td>64</td>\n",
       "      <td>64</td>\n",
       "      <td>63</td>\n",
       "    </tr>\n",
       "    <tr>\n",
       "      <th>top</th>\n",
       "      <td>31/12/1964</td>\n",
       "      <td>12.98600743</td>\n",
       "      <td>273.5218</td>\n",
       "      <td>4.9677</td>\n",
       "    </tr>\n",
       "    <tr>\n",
       "      <th>freq</th>\n",
       "      <td>1</td>\n",
       "      <td>1</td>\n",
       "      <td>1</td>\n",
       "      <td>1</td>\n",
       "    </tr>\n",
       "  </tbody>\n",
       "</table>\n",
       "</div>"
      ],
      "text/plain": [
       "        Unnamed: 0          GDP  Per Capita  Growth Rate\n",
       "count           64           64          64           63\n",
       "unique          64           64          64           63\n",
       "top     31/12/1964  12.98600743    273.5218       4.9677\n",
       "freq             1            1           1            1"
      ]
     },
     "execution_count": 33,
     "metadata": {},
     "output_type": "execute_result"
    }
   ],
   "source": [
    "economic_growth_df.describe()"
   ]
  },
  {
   "cell_type": "code",
   "execution_count": 34,
   "metadata": {},
   "outputs": [
    {
     "data": {
      "text/html": [
       "<div>\n",
       "<style scoped>\n",
       "    .dataframe tbody tr th:only-of-type {\n",
       "        vertical-align: middle;\n",
       "    }\n",
       "\n",
       "    .dataframe tbody tr th {\n",
       "        vertical-align: top;\n",
       "    }\n",
       "\n",
       "    .dataframe thead th {\n",
       "        text-align: right;\n",
       "    }\n",
       "</style>\n",
       "<table border=\"1\" class=\"dataframe\">\n",
       "  <thead>\n",
       "    <tr style=\"text-align: right;\">\n",
       "      <th></th>\n",
       "      <th>GDP Growth (%)</th>\n",
       "      <th>Annual Change</th>\n",
       "      <th></th>\n",
       "    </tr>\n",
       "  </thead>\n",
       "  <tbody>\n",
       "    <tr>\n",
       "      <th>count</th>\n",
       "      <td>62.000000</td>\n",
       "      <td>61.000000</td>\n",
       "      <td>0.0</td>\n",
       "    </tr>\n",
       "    <tr>\n",
       "      <th>mean</th>\n",
       "      <td>4.612531</td>\n",
       "      <td>0.207213</td>\n",
       "      <td>NaN</td>\n",
       "    </tr>\n",
       "    <tr>\n",
       "      <th>std</th>\n",
       "      <td>4.397972</td>\n",
       "      <td>5.826031</td>\n",
       "      <td>NaN</td>\n",
       "    </tr>\n",
       "    <tr>\n",
       "      <th>min</th>\n",
       "      <td>-7.774600</td>\n",
       "      <td>-12.610000</td>\n",
       "      <td>NaN</td>\n",
       "    </tr>\n",
       "    <tr>\n",
       "      <th>25%</th>\n",
       "      <td>2.191850</td>\n",
       "      <td>-2.270000</td>\n",
       "      <td>NaN</td>\n",
       "    </tr>\n",
       "    <tr>\n",
       "      <th>50%</th>\n",
       "      <td>4.353400</td>\n",
       "      <td>-0.380000</td>\n",
       "      <td>NaN</td>\n",
       "    </tr>\n",
       "    <tr>\n",
       "      <th>75%</th>\n",
       "      <td>6.136675</td>\n",
       "      <td>1.810000</td>\n",
       "      <td>NaN</td>\n",
       "    </tr>\n",
       "    <tr>\n",
       "      <th>max</th>\n",
       "      <td>22.173900</td>\n",
       "      <td>26.830000</td>\n",
       "      <td>NaN</td>\n",
       "    </tr>\n",
       "  </tbody>\n",
       "</table>\n",
       "</div>"
      ],
      "text/plain": [
       "        GDP Growth (%)   Annual Change     \n",
       "count        62.000000       61.000000  0.0\n",
       "mean          4.612531        0.207213  NaN\n",
       "std           4.397972        5.826031  NaN\n",
       "min          -7.774600      -12.610000  NaN\n",
       "25%           2.191850       -2.270000  NaN\n",
       "50%           4.353400       -0.380000  NaN\n",
       "75%           6.136675        1.810000  NaN\n",
       "max          22.173900       26.830000  NaN"
      ]
     },
     "execution_count": 34,
     "metadata": {},
     "output_type": "execute_result"
    }
   ],
   "source": [
    "gdp_growth_df.describe()"
   ]
  },
  {
   "cell_type": "code",
   "execution_count": 35,
   "metadata": {},
   "outputs": [
    {
     "data": {
      "text/html": [
       "<div>\n",
       "<style scoped>\n",
       "    .dataframe tbody tr th:only-of-type {\n",
       "        vertical-align: middle;\n",
       "    }\n",
       "\n",
       "    .dataframe tbody tr th {\n",
       "        vertical-align: top;\n",
       "    }\n",
       "\n",
       "    .dataframe thead th {\n",
       "        text-align: right;\n",
       "    }\n",
       "</style>\n",
       "<table border=\"1\" class=\"dataframe\">\n",
       "  <thead>\n",
       "    <tr style=\"text-align: right;\">\n",
       "      <th></th>\n",
       "      <th>Year</th>\n",
       "      <th>Annual Average Inflation</th>\n",
       "      <th>12-Month Inflation</th>\n",
       "    </tr>\n",
       "  </thead>\n",
       "  <tbody>\n",
       "    <tr>\n",
       "      <th>count</th>\n",
       "      <td>229.000000</td>\n",
       "      <td>229.000000</td>\n",
       "      <td>229.000000</td>\n",
       "    </tr>\n",
       "    <tr>\n",
       "      <th>mean</th>\n",
       "      <td>2014.021834</td>\n",
       "      <td>7.732402</td>\n",
       "      <td>7.576725</td>\n",
       "    </tr>\n",
       "    <tr>\n",
       "      <th>std</th>\n",
       "      <td>5.487182</td>\n",
       "      <td>3.346950</td>\n",
       "      <td>3.961819</td>\n",
       "    </tr>\n",
       "    <tr>\n",
       "      <th>min</th>\n",
       "      <td>2005.000000</td>\n",
       "      <td>3.930000</td>\n",
       "      <td>1.850000</td>\n",
       "    </tr>\n",
       "    <tr>\n",
       "      <th>25%</th>\n",
       "      <td>2009.000000</td>\n",
       "      <td>5.430000</td>\n",
       "      <td>5.080000</td>\n",
       "    </tr>\n",
       "    <tr>\n",
       "      <th>50%</th>\n",
       "      <td>2014.000000</td>\n",
       "      <td>6.500000</td>\n",
       "      <td>6.450000</td>\n",
       "    </tr>\n",
       "    <tr>\n",
       "      <th>75%</th>\n",
       "      <td>2019.000000</td>\n",
       "      <td>8.590000</td>\n",
       "      <td>8.390000</td>\n",
       "    </tr>\n",
       "    <tr>\n",
       "      <th>max</th>\n",
       "      <td>2023.000000</td>\n",
       "      <td>17.070000</td>\n",
       "      <td>19.720000</td>\n",
       "    </tr>\n",
       "  </tbody>\n",
       "</table>\n",
       "</div>"
      ],
      "text/plain": [
       "              Year  Annual Average Inflation  12-Month Inflation\n",
       "count   229.000000                229.000000          229.000000\n",
       "mean   2014.021834                  7.732402            7.576725\n",
       "std       5.487182                  3.346950            3.961819\n",
       "min    2005.000000                  3.930000            1.850000\n",
       "25%    2009.000000                  5.430000            5.080000\n",
       "50%    2014.000000                  6.500000            6.450000\n",
       "75%    2019.000000                  8.590000            8.390000\n",
       "max    2023.000000                 17.070000           19.720000"
      ]
     },
     "execution_count": 35,
     "metadata": {},
     "output_type": "execute_result"
    }
   ],
   "source": [
    "inflation_df.describe()"
   ]
  },
  {
   "cell_type": "code",
   "execution_count": 36,
   "metadata": {},
   "outputs": [
    {
     "data": {
      "text/html": [
       "<div>\n",
       "<style scoped>\n",
       "    .dataframe tbody tr th:only-of-type {\n",
       "        vertical-align: middle;\n",
       "    }\n",
       "\n",
       "    .dataframe tbody tr th {\n",
       "        vertical-align: top;\n",
       "    }\n",
       "\n",
       "    .dataframe thead th {\n",
       "        text-align: right;\n",
       "    }\n",
       "</style>\n",
       "<table border=\"1\" class=\"dataframe\">\n",
       "  <thead>\n",
       "    <tr style=\"text-align: right;\">\n",
       "      <th></th>\n",
       "      <th>Rate</th>\n",
       "    </tr>\n",
       "  </thead>\n",
       "  <tbody>\n",
       "    <tr>\n",
       "      <th>count</th>\n",
       "      <td>108.000000</td>\n",
       "    </tr>\n",
       "    <tr>\n",
       "      <th>mean</th>\n",
       "      <td>9.386574</td>\n",
       "    </tr>\n",
       "    <tr>\n",
       "      <th>std</th>\n",
       "      <td>2.948424</td>\n",
       "    </tr>\n",
       "    <tr>\n",
       "      <th>min</th>\n",
       "      <td>5.750000</td>\n",
       "    </tr>\n",
       "    <tr>\n",
       "      <th>25%</th>\n",
       "      <td>7.000000</td>\n",
       "    </tr>\n",
       "    <tr>\n",
       "      <th>50%</th>\n",
       "      <td>8.750000</td>\n",
       "    </tr>\n",
       "    <tr>\n",
       "      <th>75%</th>\n",
       "      <td>10.000000</td>\n",
       "    </tr>\n",
       "    <tr>\n",
       "      <th>max</th>\n",
       "      <td>18.000000</td>\n",
       "    </tr>\n",
       "  </tbody>\n",
       "</table>\n",
       "</div>"
      ],
      "text/plain": [
       "             Rate\n",
       "count  108.000000\n",
       "mean     9.386574\n",
       "std      2.948424\n",
       "min      5.750000\n",
       "25%      7.000000\n",
       "50%      8.750000\n",
       "75%     10.000000\n",
       "max     18.000000"
      ]
     },
     "execution_count": 36,
     "metadata": {},
     "output_type": "execute_result"
    }
   ],
   "source": [
    "interest_rate_df.describe()"
   ]
  },
  {
   "cell_type": "code",
   "execution_count": 37,
   "metadata": {},
   "outputs": [
    {
     "data": {
      "text/html": [
       "<div>\n",
       "<style scoped>\n",
       "    .dataframe tbody tr th:only-of-type {\n",
       "        vertical-align: middle;\n",
       "    }\n",
       "\n",
       "    .dataframe tbody tr th {\n",
       "        vertical-align: top;\n",
       "    }\n",
       "\n",
       "    .dataframe thead th {\n",
       "        text-align: right;\n",
       "    }\n",
       "</style>\n",
       "<table border=\"1\" class=\"dataframe\">\n",
       "  <thead>\n",
       "    <tr style=\"text-align: right;\">\n",
       "      <th></th>\n",
       "      <th>Year</th>\n",
       "      <th>Annual GDP growth (%)</th>\n",
       "    </tr>\n",
       "  </thead>\n",
       "  <tbody>\n",
       "    <tr>\n",
       "      <th>count</th>\n",
       "      <td>24.000000</td>\n",
       "      <td>24.000000</td>\n",
       "    </tr>\n",
       "    <tr>\n",
       "      <th>mean</th>\n",
       "      <td>1927.208333</td>\n",
       "      <td>4.083333</td>\n",
       "    </tr>\n",
       "    <tr>\n",
       "      <th>std</th>\n",
       "      <td>410.547247</td>\n",
       "      <td>2.362693</td>\n",
       "    </tr>\n",
       "    <tr>\n",
       "      <th>min</th>\n",
       "      <td>0.000000</td>\n",
       "      <td>-0.300000</td>\n",
       "    </tr>\n",
       "    <tr>\n",
       "      <th>25%</th>\n",
       "      <td>2004.750000</td>\n",
       "      <td>2.850000</td>\n",
       "    </tr>\n",
       "    <tr>\n",
       "      <th>50%</th>\n",
       "      <td>2010.500000</td>\n",
       "      <td>4.700000</td>\n",
       "    </tr>\n",
       "    <tr>\n",
       "      <th>75%</th>\n",
       "      <td>2016.250000</td>\n",
       "      <td>5.225000</td>\n",
       "    </tr>\n",
       "    <tr>\n",
       "      <th>max</th>\n",
       "      <td>2022.000000</td>\n",
       "      <td>8.100000</td>\n",
       "    </tr>\n",
       "  </tbody>\n",
       "</table>\n",
       "</div>"
      ],
      "text/plain": [
       "              Year  Annual GDP growth (%)\n",
       "count    24.000000              24.000000\n",
       "mean   1927.208333               4.083333\n",
       "std     410.547247               2.362693\n",
       "min       0.000000              -0.300000\n",
       "25%    2004.750000               2.850000\n",
       "50%    2010.500000               4.700000\n",
       "75%    2016.250000               5.225000\n",
       "max    2022.000000               8.100000"
      ]
     },
     "execution_count": 37,
     "metadata": {},
     "output_type": "execute_result"
    }
   ],
   "source": [
    "annual_GDP_df.describe()"
   ]
  },
  {
   "cell_type": "markdown",
   "metadata": {},
   "source": [
    "### Dropping missing columns and rows, renaming columns"
   ]
  },
  {
   "cell_type": "code",
   "execution_count": 38,
   "metadata": {},
   "outputs": [
    {
     "data": {
      "text/html": [
       "<div>\n",
       "<style scoped>\n",
       "    .dataframe tbody tr th:only-of-type {\n",
       "        vertical-align: middle;\n",
       "    }\n",
       "\n",
       "    .dataframe tbody tr th {\n",
       "        vertical-align: top;\n",
       "    }\n",
       "\n",
       "    .dataframe thead th {\n",
       "        text-align: right;\n",
       "    }\n",
       "</style>\n",
       "<table border=\"1\" class=\"dataframe\">\n",
       "  <thead>\n",
       "    <tr style=\"text-align: right;\">\n",
       "      <th></th>\n",
       "      <th>date</th>\n",
       "      <th>GDP Growth (%)</th>\n",
       "      <th>Annual Change</th>\n",
       "    </tr>\n",
       "  </thead>\n",
       "  <tbody>\n",
       "    <tr>\n",
       "      <th>0</th>\n",
       "      <td>31/12/1961</td>\n",
       "      <td>-7.7746</td>\n",
       "      <td>NaN</td>\n",
       "    </tr>\n",
       "    <tr>\n",
       "      <th>1</th>\n",
       "      <td>31/12/1962</td>\n",
       "      <td>9.4574</td>\n",
       "      <td>17.23</td>\n",
       "    </tr>\n",
       "    <tr>\n",
       "      <th>2</th>\n",
       "      <td>31/12/1963</td>\n",
       "      <td>8.7783</td>\n",
       "      <td>-0.68</td>\n",
       "    </tr>\n",
       "    <tr>\n",
       "      <th>3</th>\n",
       "      <td>31/12/1964</td>\n",
       "      <td>4.9645</td>\n",
       "      <td>-3.81</td>\n",
       "    </tr>\n",
       "    <tr>\n",
       "      <th>4</th>\n",
       "      <td>31/12/1965</td>\n",
       "      <td>2.0091</td>\n",
       "      <td>-2.96</td>\n",
       "    </tr>\n",
       "    <tr>\n",
       "      <th>...</th>\n",
       "      <td>...</td>\n",
       "      <td>...</td>\n",
       "      <td>...</td>\n",
       "    </tr>\n",
       "    <tr>\n",
       "      <th>57</th>\n",
       "      <td>31/12/2018</td>\n",
       "      <td>5.6479</td>\n",
       "      <td>1.81</td>\n",
       "    </tr>\n",
       "    <tr>\n",
       "      <th>58</th>\n",
       "      <td>31/12/2019</td>\n",
       "      <td>5.1142</td>\n",
       "      <td>-0.53</td>\n",
       "    </tr>\n",
       "    <tr>\n",
       "      <th>59</th>\n",
       "      <td>31/12/2020</td>\n",
       "      <td>-0.2728</td>\n",
       "      <td>-5.39</td>\n",
       "    </tr>\n",
       "    <tr>\n",
       "      <th>60</th>\n",
       "      <td>31/12/2021</td>\n",
       "      <td>7.5905</td>\n",
       "      <td>7.86</td>\n",
       "    </tr>\n",
       "    <tr>\n",
       "      <th>61</th>\n",
       "      <td>31/12/2022</td>\n",
       "      <td>4.8466</td>\n",
       "      <td>-2.74</td>\n",
       "    </tr>\n",
       "  </tbody>\n",
       "</table>\n",
       "<p>62 rows × 3 columns</p>\n",
       "</div>"
      ],
      "text/plain": [
       "          date   GDP Growth (%)   Annual Change\n",
       "0   31/12/1961          -7.7746             NaN\n",
       "1   31/12/1962           9.4574           17.23\n",
       "2   31/12/1963           8.7783           -0.68\n",
       "3   31/12/1964           4.9645           -3.81\n",
       "4   31/12/1965           2.0091           -2.96\n",
       "..         ...              ...             ...\n",
       "57  31/12/2018           5.6479            1.81\n",
       "58  31/12/2019           5.1142           -0.53\n",
       "59  31/12/2020          -0.2728           -5.39\n",
       "60  31/12/2021           7.5905            7.86\n",
       "61  31/12/2022           4.8466           -2.74\n",
       "\n",
       "[62 rows x 3 columns]"
      ]
     },
     "execution_count": 38,
     "metadata": {},
     "output_type": "execute_result"
    }
   ],
   "source": [
    "gdp_growth_df.drop(' ', axis=1, inplace=True)\n",
    "gdp_growth_df"
   ]
  },
  {
   "cell_type": "code",
   "execution_count": 39,
   "metadata": {},
   "outputs": [
    {
     "data": {
      "text/html": [
       "<div>\n",
       "<style scoped>\n",
       "    .dataframe tbody tr th:only-of-type {\n",
       "        vertical-align: middle;\n",
       "    }\n",
       "\n",
       "    .dataframe tbody tr th {\n",
       "        vertical-align: top;\n",
       "    }\n",
       "\n",
       "    .dataframe thead th {\n",
       "        text-align: right;\n",
       "    }\n",
       "</style>\n",
       "<table border=\"1\" class=\"dataframe\">\n",
       "  <thead>\n",
       "    <tr style=\"text-align: right;\">\n",
       "      <th></th>\n",
       "      <th>Unnamed: 0</th>\n",
       "      <th>GDP</th>\n",
       "      <th>Per Capita</th>\n",
       "      <th>Growth Rate</th>\n",
       "    </tr>\n",
       "  </thead>\n",
       "  <tbody>\n",
       "    <tr>\n",
       "      <th>1</th>\n",
       "      <td>31/12/1960</td>\n",
       "      <td>0.791265459</td>\n",
       "      <td>102.0799</td>\n",
       "      <td>NaN</td>\n",
       "    </tr>\n",
       "    <tr>\n",
       "      <th>2</th>\n",
       "      <td>31/12/1961</td>\n",
       "      <td>0.792959472</td>\n",
       "      <td>98.5353</td>\n",
       "      <td>-7.7746</td>\n",
       "    </tr>\n",
       "    <tr>\n",
       "      <th>3</th>\n",
       "      <td>31/12/1962</td>\n",
       "      <td>0.8681114</td>\n",
       "      <td>103.7967</td>\n",
       "      <td>9.4574</td>\n",
       "    </tr>\n",
       "    <tr>\n",
       "      <th>4</th>\n",
       "      <td>31/12/1963</td>\n",
       "      <td>0.926589349</td>\n",
       "      <td>106.5388</td>\n",
       "      <td>8.7783</td>\n",
       "    </tr>\n",
       "    <tr>\n",
       "      <th>5</th>\n",
       "      <td>31/12/1964</td>\n",
       "      <td>0.998759334</td>\n",
       "      <td>110.392</td>\n",
       "      <td>4.9645</td>\n",
       "    </tr>\n",
       "    <tr>\n",
       "      <th>...</th>\n",
       "      <td>...</td>\n",
       "      <td>...</td>\n",
       "      <td>...</td>\n",
       "      <td>...</td>\n",
       "    </tr>\n",
       "    <tr>\n",
       "      <th>59</th>\n",
       "      <td>31/12/2018</td>\n",
       "      <td>92.20297994</td>\n",
       "      <td>1845.7834</td>\n",
       "      <td>5.6479</td>\n",
       "    </tr>\n",
       "    <tr>\n",
       "      <th>60</th>\n",
       "      <td>31/12/2019</td>\n",
       "      <td>100.3784358</td>\n",
       "      <td>1970.0801</td>\n",
       "      <td>5.1142</td>\n",
       "    </tr>\n",
       "    <tr>\n",
       "      <th>61</th>\n",
       "      <td>31/12/2020</td>\n",
       "      <td>100.6575056</td>\n",
       "      <td>1936.2508</td>\n",
       "      <td>-0.2728</td>\n",
       "    </tr>\n",
       "    <tr>\n",
       "      <th>62</th>\n",
       "      <td>31/12/2021</td>\n",
       "      <td>109.7036593</td>\n",
       "      <td>2069.6611</td>\n",
       "      <td>7.5905</td>\n",
       "    </tr>\n",
       "    <tr>\n",
       "      <th>63</th>\n",
       "      <td>31/12/2022</td>\n",
       "      <td>113.4200082</td>\n",
       "      <td>2099.3019</td>\n",
       "      <td>4.8466</td>\n",
       "    </tr>\n",
       "  </tbody>\n",
       "</table>\n",
       "<p>63 rows × 4 columns</p>\n",
       "</div>"
      ],
      "text/plain": [
       "    Unnamed: 0          GDP  Per Capita  Growth Rate\n",
       "1   31/12/1960  0.791265459    102.0799          NaN\n",
       "2   31/12/1961  0.792959472     98.5353      -7.7746\n",
       "3   31/12/1962    0.8681114    103.7967       9.4574\n",
       "4   31/12/1963  0.926589349    106.5388       8.7783\n",
       "5   31/12/1964  0.998759334     110.392       4.9645\n",
       "..         ...          ...         ...          ...\n",
       "59  31/12/2018  92.20297994   1845.7834       5.6479\n",
       "60  31/12/2019  100.3784358   1970.0801       5.1142\n",
       "61  31/12/2020  100.6575056   1936.2508      -0.2728\n",
       "62  31/12/2021  109.7036593   2069.6611       7.5905\n",
       "63  31/12/2022  113.4200082   2099.3019       4.8466\n",
       "\n",
       "[63 rows x 4 columns]"
      ]
     },
     "execution_count": 39,
     "metadata": {},
     "output_type": "execute_result"
    }
   ],
   "source": [
    "economic_growth_df.drop(0, inplace=True)\n",
    "economic_growth_df"
   ]
  },
  {
   "cell_type": "markdown",
   "metadata": {},
   "source": [
    "### Removing White Spaces"
   ]
  },
  {
   "cell_type": "code",
   "execution_count": 40,
   "metadata": {},
   "outputs": [
    {
     "name": "stdout",
     "output_type": "stream",
     "text": [
      "Index(['Date', 'Open', 'High', 'Low', 'Close', 'Volume'], dtype='object')\n",
      "Index(['Unnamed: 0', 'GDP', 'Per Capita', 'Growth Rate'], dtype='object')\n",
      "Index(['Year', 'Month', 'Annual Average Inflation', '12-Month Inflation'], dtype='object')\n",
      "Index(['date', 'GDP Growth (%)', 'Annual Change'], dtype='object')\n"
     ]
    }
   ],
   "source": [
    "# Create function to remove whitespace from columns\n",
    "def remove_whitespace_from_columns(df):\n",
    "    # Remove white spaces from column names\n",
    "    df.rename(columns=lambda x: x.strip(), inplace=True)\n",
    "\n",
    "    # Display the updated column names\n",
    "    print(df.columns)\n",
    "\n",
    "# Apply function to the different datasets\n",
    "remove_whitespace_from_columns(historical_prices_df)\n",
    "remove_whitespace_from_columns(economic_growth_df)\n",
    "remove_whitespace_from_columns(inflation_df)\n",
    "remove_whitespace_from_columns(gdp_growth_df)"
   ]
  },
  {
   "cell_type": "code",
   "execution_count": 41,
   "metadata": {},
   "outputs": [
    {
     "data": {
      "text/html": [
       "<div>\n",
       "<style scoped>\n",
       "    .dataframe tbody tr th:only-of-type {\n",
       "        vertical-align: middle;\n",
       "    }\n",
       "\n",
       "    .dataframe tbody tr th {\n",
       "        vertical-align: top;\n",
       "    }\n",
       "\n",
       "    .dataframe thead th {\n",
       "        text-align: right;\n",
       "    }\n",
       "</style>\n",
       "<table border=\"1\" class=\"dataframe\">\n",
       "  <thead>\n",
       "    <tr style=\"text-align: right;\">\n",
       "      <th></th>\n",
       "      <th>Date</th>\n",
       "      <th>GDP (Billions of US $)</th>\n",
       "      <th>Per Capita (US $)</th>\n",
       "      <th>Growth Rate (Annual % Change)</th>\n",
       "    </tr>\n",
       "  </thead>\n",
       "  <tbody>\n",
       "    <tr>\n",
       "      <th>1</th>\n",
       "      <td>31/12/1960</td>\n",
       "      <td>0.791265459</td>\n",
       "      <td>102.0799</td>\n",
       "      <td>NaN</td>\n",
       "    </tr>\n",
       "    <tr>\n",
       "      <th>2</th>\n",
       "      <td>31/12/1961</td>\n",
       "      <td>0.792959472</td>\n",
       "      <td>98.5353</td>\n",
       "      <td>-7.7746</td>\n",
       "    </tr>\n",
       "    <tr>\n",
       "      <th>3</th>\n",
       "      <td>31/12/1962</td>\n",
       "      <td>0.8681114</td>\n",
       "      <td>103.7967</td>\n",
       "      <td>9.4574</td>\n",
       "    </tr>\n",
       "    <tr>\n",
       "      <th>4</th>\n",
       "      <td>31/12/1963</td>\n",
       "      <td>0.926589349</td>\n",
       "      <td>106.5388</td>\n",
       "      <td>8.7783</td>\n",
       "    </tr>\n",
       "    <tr>\n",
       "      <th>5</th>\n",
       "      <td>31/12/1964</td>\n",
       "      <td>0.998759334</td>\n",
       "      <td>110.392</td>\n",
       "      <td>4.9645</td>\n",
       "    </tr>\n",
       "    <tr>\n",
       "      <th>...</th>\n",
       "      <td>...</td>\n",
       "      <td>...</td>\n",
       "      <td>...</td>\n",
       "      <td>...</td>\n",
       "    </tr>\n",
       "    <tr>\n",
       "      <th>59</th>\n",
       "      <td>31/12/2018</td>\n",
       "      <td>92.20297994</td>\n",
       "      <td>1845.7834</td>\n",
       "      <td>5.6479</td>\n",
       "    </tr>\n",
       "    <tr>\n",
       "      <th>60</th>\n",
       "      <td>31/12/2019</td>\n",
       "      <td>100.3784358</td>\n",
       "      <td>1970.0801</td>\n",
       "      <td>5.1142</td>\n",
       "    </tr>\n",
       "    <tr>\n",
       "      <th>61</th>\n",
       "      <td>31/12/2020</td>\n",
       "      <td>100.6575056</td>\n",
       "      <td>1936.2508</td>\n",
       "      <td>-0.2728</td>\n",
       "    </tr>\n",
       "    <tr>\n",
       "      <th>62</th>\n",
       "      <td>31/12/2021</td>\n",
       "      <td>109.7036593</td>\n",
       "      <td>2069.6611</td>\n",
       "      <td>7.5905</td>\n",
       "    </tr>\n",
       "    <tr>\n",
       "      <th>63</th>\n",
       "      <td>31/12/2022</td>\n",
       "      <td>113.4200082</td>\n",
       "      <td>2099.3019</td>\n",
       "      <td>4.8466</td>\n",
       "    </tr>\n",
       "  </tbody>\n",
       "</table>\n",
       "<p>63 rows × 4 columns</p>\n",
       "</div>"
      ],
      "text/plain": [
       "          Date GDP (Billions of US $) Per Capita (US $)  \\\n",
       "1   31/12/1960            0.791265459          102.0799   \n",
       "2   31/12/1961            0.792959472           98.5353   \n",
       "3   31/12/1962              0.8681114          103.7967   \n",
       "4   31/12/1963            0.926589349          106.5388   \n",
       "5   31/12/1964            0.998759334           110.392   \n",
       "..         ...                    ...               ...   \n",
       "59  31/12/2018            92.20297994         1845.7834   \n",
       "60  31/12/2019            100.3784358         1970.0801   \n",
       "61  31/12/2020            100.6575056         1936.2508   \n",
       "62  31/12/2021            109.7036593         2069.6611   \n",
       "63  31/12/2022            113.4200082         2099.3019   \n",
       "\n",
       "   Growth Rate (Annual % Change)  \n",
       "1                            NaN  \n",
       "2                        -7.7746  \n",
       "3                         9.4574  \n",
       "4                         8.7783  \n",
       "5                         4.9645  \n",
       "..                           ...  \n",
       "59                        5.6479  \n",
       "60                        5.1142  \n",
       "61                       -0.2728  \n",
       "62                        7.5905  \n",
       "63                        4.8466  \n",
       "\n",
       "[63 rows x 4 columns]"
      ]
     },
     "execution_count": 41,
     "metadata": {},
     "output_type": "execute_result"
    }
   ],
   "source": [
    "new = {\"Unnamed: 0\" : \"Date\", \"GDP\" : \"GDP (Billions of US $)\", \"Per Capita\" : \"Per Capita (US $)\", \"Growth Rate\" : \"Growth Rate (Annual % Change)\"}\n",
    "economic_growth_df.rename(columns=new, inplace = True)\n",
    "\n",
    "\n",
    "\n",
    "economic_growth_df"
   ]
  },
  {
   "cell_type": "markdown",
   "metadata": {},
   "source": [
    "### Transform data into a consistent time-series format."
   ]
  },
  {
   "cell_type": "code",
   "execution_count": 42,
   "metadata": {},
   "outputs": [],
   "source": [
    "# Convert the 'GDP', 'Per Capita', and 'Growth Rate' columns to float\n",
    "economic_growth_df['GDP (Billions of US $)'] = pd.to_numeric(economic_growth_df['GDP (Billions of US $)'])\n",
    "economic_growth_df['Per Capita (US $)'] = pd.to_numeric(economic_growth_df['Per Capita (US $)'])\n",
    "economic_growth_df['Growth Rate (Annual % Change)'] = pd.to_numeric(economic_growth_df['Growth Rate (Annual % Change)'])"
   ]
  },
  {
   "cell_type": "code",
   "execution_count": 43,
   "metadata": {},
   "outputs": [],
   "source": [
    "# Convert date column to datetime\n",
    "interest_rate_df['Date'] = pd.to_datetime(interest_rate_df['Date'], format='%d/%m/%Y')\n",
    "gdp_growth_df['date'] = pd.to_datetime(gdp_growth_df['date'], format='%d/%m/%Y')\n",
    "economic_growth_df['Date'] = pd.to_datetime(economic_growth_df['Date'], format='%d/%m/%Y')\n",
    "\n",
    "# Transform data into a consistent time-series format.\n",
    "historical_prices_df['Date'] = pd.to_datetime(historical_prices_df['Date'])\n",
    "interest_rate_df['Date'] = pd.to_datetime(interest_rate_df['Date'])\n",
    "gdp_growth_df['date'] = pd.to_datetime(gdp_growth_df['date'])"
   ]
  },
  {
   "cell_type": "code",
   "execution_count": 44,
   "metadata": {},
   "outputs": [],
   "source": [
    "# Engineer additional features, such as moving averages\n",
    "historical_prices_df['50_MA'] = historical_prices_df['Close'].rolling(window=50).mean()"
   ]
  },
  {
   "cell_type": "markdown",
   "metadata": {},
   "source": [
    "# Exploratory Data Analysis"
   ]
  },
  {
   "cell_type": "markdown",
   "metadata": {},
   "source": [
    "### 1. How are the features Distributed?"
   ]
  },
  {
   "cell_type": "markdown",
   "metadata": {},
   "source": [
    "We start by looking at the distribution of the stock prices"
   ]
  },
  {
   "cell_type": "code",
   "execution_count": 45,
   "metadata": {},
   "outputs": [
    {
     "data": {
      "image/png": "[encoded data removed]",
      "text/plain": [
       "<Figure size 576x360 with 1 Axes>"
      ]
     },
     "metadata": {
      "needs_background": "light"
     },
     "output_type": "display_data"
    }
   ],
   "source": [
    "plt.figure(figsize=(8, 5))\n",
    "sns.histplot(historical_prices_df.sample(2000), x= 'Date', kde=True, color='green')\n",
    "\n",
    "# Set labels and title\n",
    "plt.xlabel('Date')\n",
    "plt.ylabel('High',)\n",
    "plt.title(\"Distribution of Stock prices\");"
   ]
  },
  {
   "cell_type": "code",
   "execution_count": 46,
   "metadata": {},
   "outputs": [
    {
     "data": {
      "image/png": "[encoded data removed]",
      "text/plain": [
       "<Figure size 1512x1296 with 6 Axes>"
      ]
     },
     "metadata": {
      "needs_background": "light"
     },
     "output_type": "display_data"
    }
   ],
   "source": [
    "# Distibution of other column variables \n",
    "def histo(historical_prices_df):\n",
    "    return historical_prices_df.hist(figsize=(21,18))\n",
    "histo(historical_prices_df);"
   ]
  },
  {
   "cell_type": "markdown",
   "metadata": {},
   "source": [
    "\n",
    "### 2. Time Series Plots for Stock Prices:\n",
    "   - Plot Safaricom's stock prices over time to observe trends, seasonality, and potential anomalies."
   ]
  },
  {
   "cell_type": "code",
   "execution_count": 47,
   "metadata": {},
   "outputs": [
    {
     "data": {
      "image/png": "[encoded data removed]",
      "text/plain": [
       "<Figure size 864x432 with 1 Axes>"
      ]
     },
     "metadata": {
      "needs_background": "light"
     },
     "output_type": "display_data"
    }
   ],
   "source": [
    "plt.figure(figsize=(12, 6))\n",
    "plt.plot(historical_prices_df['Date'], historical_prices_df['Close'], label='Stock Price')\n",
    "plt.title('Safaricom Stock Prices Over Time')\n",
    "plt.xlabel('Date')\n",
    "plt.ylabel('Closing Price (Ksh)')\n",
    "plt.legend()\n",
    "plt.show()"
   ]
  },
  {
   "cell_type": "markdown",
   "metadata": {},
   "source": [
    "### 3. Correlation Heatmap:\n",
    "   - Visualize the correlation between different features in the Safaricom stock data.  "
   ]
  },
  {
   "cell_type": "code",
   "execution_count": 48,
   "metadata": {},
   "outputs": [
    {
     "data": {
      "image/png": "[encoded data removed]",
      "text/plain": [
       "<Figure size 720x576 with 2 Axes>"
      ]
     },
     "metadata": {
      "needs_background": "light"
     },
     "output_type": "display_data"
    }
   ],
   "source": [
    "correlation_matrix = historical_prices_df[['Open', 'High', 'Low', 'Close', 'Volume']].corr()\n",
    "plt.figure(figsize=(10, 8))\n",
    "sns.heatmap(correlation_matrix, annot=True, cmap='coolwarm', fmt=\".2f\")\n",
    "plt.title('Correlation Heatmap for Stock Features')\n",
    "plt.show()"
   ]
  },
  {
   "cell_type": "code",
   "execution_count": 49,
   "metadata": {},
   "outputs": [
    {
     "name": "stdout",
     "output_type": "stream",
     "text": [
      "           Close    Volume\n",
      "Close   1.000000 -0.131149\n",
      "Volume -0.131149  1.000000\n"
     ]
    }
   ],
   "source": [
    "# Analyze correlations between stock prices and trading volume\n",
    "correlation_matrix_2 = historical_prices_df[['Close', 'Volume']].corr()\n",
    "print(correlation_matrix_2)"
   ]
  },
  {
   "cell_type": "markdown",
   "metadata": {},
   "source": [
    "### 4. GDP Growth Over Time:\n",
    "   - Plot Kenya's GDP growth rate over the years."
   ]
  },
  {
   "cell_type": "code",
   "execution_count": 50,
   "metadata": {},
   "outputs": [
    {
     "data": {
      "image/png": "[encoded data removed]",
      "text/plain": [
       "<Figure size 864x432 with 1 Axes>"
      ]
     },
     "metadata": {
      "needs_background": "light"
     },
     "output_type": "display_data"
    }
   ],
   "source": [
    "plt.figure(figsize=(12, 6))\n",
    "plt.plot(economic_growth_df['Date'], economic_growth_df['Growth Rate (Annual % Change)'], label='GDP Growth Rate')\n",
    "plt.title('Kenya GDP Growth Rate Over Time')\n",
    "plt.xlabel('Year')\n",
    "plt.ylabel('GDP Growth Rate (%)')\n",
    "plt.legend()\n",
    "plt.show()"
   ]
  },
  {
   "cell_type": "markdown",
   "metadata": {},
   "source": [
    "### 5. Inflation Rate Trends:\n",
    "   - Visualize the inflation rate changes over time."
   ]
  },
  {
   "cell_type": "code",
   "execution_count": 52,
   "metadata": {},
   "outputs": [
    {
     "data": {
      "image/png": "[encoded data removed]",
      "text/plain": [
       "<Figure size 864x432 with 1 Axes>"
      ]
     },
     "metadata": {
      "needs_background": "light"
     },
     "output_type": "display_data"
    }
   ],
   "source": [
    "plt.figure(figsize=(12, 6))\n",
    "plt.plot(inflation_df['Year'], inflation_df['Annual Average Inflation'], label='Inflation Rate')\n",
    "plt.title('Kenya Inflation Rate Over Time')\n",
    "plt.xlabel('Date')\n",
    "plt.ylabel('Inflation Rate (%)')\n",
    "plt.legend()\n",
    "plt.show()"
   ]
  },
  {
   "cell_type": "markdown",
   "metadata": {},
   "source": [
    "### 6. Interest Rate Changes:\n",
    "   - Plot the interest rate changes over time.  "
   ]
  },
  {
   "cell_type": "code",
   "execution_count": 53,
   "metadata": {},
   "outputs": [
    {
     "data": {
      "image/png": "[encoded data removed]",
      "text/plain": [
       "<Figure size 864x432 with 1 Axes>"
      ]
     },
     "metadata": {
      "needs_background": "light"
     },
     "output_type": "display_data"
    }
   ],
   "source": [
    "plt.figure(figsize=(12, 6))\n",
    "plt.plot(interest_rate_df['Date'], interest_rate_df['Rate'], label='Interest Rate')\n",
    "plt.title('Kenya Interest Rate Changes Over Time')\n",
    "plt.xlabel('Date')\n",
    "plt.ylabel('Interest Rate (%)')\n",
    "plt.legend()\n",
    "plt.show()"
   ]
  },
  {
   "cell_type": "markdown",
   "metadata": {},
   "source": [
    "### 7. Moving Averages\n",
    "- 50 day moving average"
   ]
  },
  {
   "cell_type": "code",
   "execution_count": 54,
   "metadata": {},
   "outputs": [
    {
     "data": {
      "image/png": "[encoded data removed]",
      "text/plain": [
       "<Figure size 864x432 with 1 Axes>"
      ]
     },
     "metadata": {
      "needs_background": "light"
     },
     "output_type": "display_data"
    }
   ],
   "source": [
    "plt.figure(figsize=(12, 6))\n",
    "\n",
    "# Plotting the original closing prices\n",
    "plt.plot(historical_prices_df['Date'], historical_prices_df['Close'], label='Stock Price', color='blue')\n",
    "\n",
    "# Plotting the 50-day moving average\n",
    "plt.plot(historical_prices_df['Date'], historical_prices_df['50_MA'], label='50-Day Moving Average', color='red')\n",
    "\n",
    "plt.title('Safaricom Stock Prices with 50-Day Moving Average')\n",
    "plt.xlabel('Date')\n",
    "plt.ylabel('Closing Price (Ksh)')\n",
    "plt.legend()\n",
    "plt.show()"
   ]
  },
  {
   "cell_type": "code",
   "execution_count": 55,
   "metadata": {},
   "outputs": [
    {
     "data": {
      "image/png": "[encoded data removed]",
      "text/plain": [
       "<Figure size 540x540 with 12 Axes>"
      ]
     },
     "metadata": {
      "needs_background": "light"
     },
     "output_type": "display_data"
    }
   ],
   "source": [
    "# Visualizing pairplots for key variables\n",
    "sns.pairplot(historical_prices_df[['Close', 'Volume', '50_MA']])\n",
    "plt.show()"
   ]
  },
  {
   "cell_type": "markdown",
   "metadata": {},
   "source": [
    "### 8. Further Exploring the relationships between stock prices and economic indicators"
   ]
  },
  {
   "cell_type": "code",
   "execution_count": 56,
   "metadata": {},
   "outputs": [
    {
     "data": {
      "image/png": "[encoded data removed]",
      "text/plain": [
       "<Figure size 720x432 with 1 Axes>"
      ]
     },
     "metadata": {
      "needs_background": "light"
     },
     "output_type": "display_data"
    }
   ],
   "source": [
    "# Scatterplot for GDP Growth Rate vs. Stock Close Price\n",
    "plt.figure(figsize=(10, 6))\n",
    "plt.scatter(economic_growth_df['Date'], economic_growth_df['Growth Rate (Annual % Change)'], label='GDP Growth Rate')\n",
    "plt.scatter(historical_prices_df['Date'], historical_prices_df['Close'], label='Stock Close Price', alpha=0.5)\n",
    "plt.title('Scatter Plot: GDP Growth Rate vs. Stock Close Price')\n",
    "plt.xlabel('Date')\n",
    "plt.ylabel('Value')\n",
    "plt.legend()\n",
    "plt.show()"
   ]
  },
  {
   "cell_type": "code",
   "execution_count": 57,
   "metadata": {},
   "outputs": [
    {
     "data": {
      "image/png": "[encoded data removed]",
      "text/plain": [
       "<Figure size 864x432 with 2 Axes>"
      ]
     },
     "metadata": {
      "needs_background": "light"
     },
     "output_type": "display_data"
    }
   ],
   "source": [
    "# Lineplot of GDP Growth Rate and Stock Close Price with Dual Y-Axis\n",
    "\n",
    "#For a better comparison, we created line plot with dual y-axes, \n",
    "# where the left y-axis represents gdp growth rate, and the right y-axis represents stock close price.\n",
    "# This allows better and easier observation of trends and patterns.\n",
    "\n",
    "\n",
    "\n",
    "fig, ax1 = plt.subplots(figsize=(12, 6))\n",
    "\n",
    "color = 'tab:red'\n",
    "ax1.set_xlabel('Date')\n",
    "ax1.set_ylabel('GDP Growth Rate', color=color)\n",
    "ax1.plot(economic_growth_df['Date'], economic_growth_df['Growth Rate (Annual % Change)'], color=color)\n",
    "ax1.tick_params(axis='y', labelcolor=color)\n",
    "\n",
    "ax2 = ax1.twinx()\n",
    "color = 'tab:blue'\n",
    "ax2.set_ylabel('Stock Close Price', color=color)\n",
    "ax2.plot(historical_prices_df['Date'], historical_prices_df['Close'], color=color)\n",
    "ax2.tick_params(axis='y', labelcolor=color)\n",
    "\n",
    "plt.title('GDP Growth Rate and Stock Close Price Over Time')\n",
    "plt.show()\n"
   ]
  },
  {
   "cell_type": "code",
   "execution_count": 58,
   "metadata": {},
   "outputs": [
    {
     "data": {
      "image/png": "[encoded data removed]",
      "text/plain": [
       "<Figure size 720x576 with 2 Axes>"
      ]
     },
     "metadata": {
      "needs_background": "light"
     },
     "output_type": "display_data"
    }
   ],
   "source": [
    "# Visualizing the correlation between each economic indicator and stock prices.\n",
    "\n",
    "combined_df = pd.merge(historical_prices_df, economic_growth_df, how='inner', on='Date')\n",
    "correlation_matrix_combined = combined_df.corr()\n",
    "\n",
    "plt.figure(figsize=(10, 8))\n",
    "sns.heatmap(correlation_matrix_combined, annot=True, cmap='coolwarm', fmt=\".2f\")\n",
    "plt.title('Correlation Heatmap: Stock Prices and Economic Indicators')\n",
    "plt.show()"
   ]
  },
  {
   "cell_type": "markdown",
   "metadata": {},
   "source": [
    "### Resampling\n",
    "#### Inflation Rate\n",
    "The dataset we obtained from the CBK contains two columns measuring inflation however both capture different timeframes thus offering different insights.\n",
    " - **Annual Average Inflation** - Calculated by averaging monthly inflation rates over a year. It provides a smooth, overall picture of price changes.\n",
    " - **12-Month Inflation** - Compares the price level one year ago to the current level. It reflects the latest trend and can be more volatile than the annual average.\n",
    " \n",
    "We opted to go with the Annual Average as we are interested in the general inflationary context affecting the stock market over a longer period of time."
   ]
  },
  {
   "cell_type": "code",
   "execution_count": 59,
   "metadata": {},
   "outputs": [
    {
     "data": {
      "text/html": [
       "<div>\n",
       "<style scoped>\n",
       "    .dataframe tbody tr th:only-of-type {\n",
       "        vertical-align: middle;\n",
       "    }\n",
       "\n",
       "    .dataframe tbody tr th {\n",
       "        vertical-align: top;\n",
       "    }\n",
       "\n",
       "    .dataframe thead th {\n",
       "        text-align: right;\n",
       "    }\n",
       "</style>\n",
       "<table border=\"1\" class=\"dataframe\">\n",
       "  <thead>\n",
       "    <tr style=\"text-align: right;\">\n",
       "      <th></th>\n",
       "      <th>Date</th>\n",
       "      <th>Annual_Average_Inflation</th>\n",
       "    </tr>\n",
       "  </thead>\n",
       "  <tbody>\n",
       "    <tr>\n",
       "      <th>0</th>\n",
       "      <td>2023-12-01</td>\n",
       "      <td>7.67</td>\n",
       "    </tr>\n",
       "    <tr>\n",
       "      <th>1</th>\n",
       "      <td>2023-12-02</td>\n",
       "      <td>7.67</td>\n",
       "    </tr>\n",
       "    <tr>\n",
       "      <th>2</th>\n",
       "      <td>2023-12-03</td>\n",
       "      <td>7.67</td>\n",
       "    </tr>\n",
       "    <tr>\n",
       "      <th>3</th>\n",
       "      <td>2023-12-04</td>\n",
       "      <td>7.67</td>\n",
       "    </tr>\n",
       "    <tr>\n",
       "      <th>4</th>\n",
       "      <td>2023-12-05</td>\n",
       "      <td>7.67</td>\n",
       "    </tr>\n",
       "    <tr>\n",
       "      <th>5</th>\n",
       "      <td>2023-12-06</td>\n",
       "      <td>7.67</td>\n",
       "    </tr>\n",
       "    <tr>\n",
       "      <th>6</th>\n",
       "      <td>2023-12-07</td>\n",
       "      <td>7.67</td>\n",
       "    </tr>\n",
       "    <tr>\n",
       "      <th>7</th>\n",
       "      <td>2023-12-08</td>\n",
       "      <td>7.67</td>\n",
       "    </tr>\n",
       "    <tr>\n",
       "      <th>8</th>\n",
       "      <td>2023-12-09</td>\n",
       "      <td>7.67</td>\n",
       "    </tr>\n",
       "    <tr>\n",
       "      <th>9</th>\n",
       "      <td>2023-12-10</td>\n",
       "      <td>7.67</td>\n",
       "    </tr>\n",
       "  </tbody>\n",
       "</table>\n",
       "</div>"
      ],
      "text/plain": [
       "        Date  Annual_Average_Inflation\n",
       "0 2023-12-01                      7.67\n",
       "1 2023-12-02                      7.67\n",
       "2 2023-12-03                      7.67\n",
       "3 2023-12-04                      7.67\n",
       "4 2023-12-05                      7.67\n",
       "5 2023-12-06                      7.67\n",
       "6 2023-12-07                      7.67\n",
       "7 2023-12-08                      7.67\n",
       "8 2023-12-09                      7.67\n",
       "9 2023-12-10                      7.67"
      ]
     },
     "execution_count": 59,
     "metadata": {},
     "output_type": "execute_result"
    }
   ],
   "source": [
    "# Drop 12-Month Inflation column\n",
    "inflation_df.drop(['12-Month Inflation'], axis=1, inplace=True)\n",
    "\n",
    "# Create dataframe for daiy inflation data\n",
    "daily_inflation_df = pd.DataFrame()\n",
    "\n",
    "# Iterate through each row in the original DataFrame\n",
    "for index, row in inflation_df.iterrows():\n",
    "    # Extract year and month from the current row\n",
    "    year = row['Year']\n",
    "    month = row['Month']\n",
    "    \n",
    "    # Calculate the number of days in the current month\n",
    "    days_in_month = pd.Timestamp(f'{year}-{month}').days_in_month\n",
    "    \n",
    "    # Repeat the current row's data for each day in the month\n",
    "    daily_data = pd.DataFrame({\n",
    "        'Date': pd.date_range(start=f'{year}-{month}-01', periods=days_in_month, freq='D'),\n",
    "        'Annual_Average_Inflation': [row['Annual Average Inflation']] * days_in_month\n",
    "    })\n",
    "    # Concatenate dataframes\n",
    "    daily_inflation_df = pd.concat([daily_inflation_df, daily_data], ignore_index=True)\n",
    "\n",
    "daily_inflation_df.head(10)"
   ]
  },
  {
   "cell_type": "markdown",
   "metadata": {},
   "source": [
    "### GDP"
   ]
  },
  {
   "cell_type": "code",
   "execution_count": 61,
   "metadata": {},
   "outputs": [
    {
     "data": {
      "text/html": [
       "<div>\n",
       "<style scoped>\n",
       "    .dataframe tbody tr th:only-of-type {\n",
       "        vertical-align: middle;\n",
       "    }\n",
       "\n",
       "    .dataframe tbody tr th {\n",
       "        vertical-align: top;\n",
       "    }\n",
       "\n",
       "    .dataframe thead th {\n",
       "        text-align: right;\n",
       "    }\n",
       "</style>\n",
       "<table border=\"1\" class=\"dataframe\">\n",
       "  <thead>\n",
       "    <tr style=\"text-align: right;\">\n",
       "      <th></th>\n",
       "      <th>GDP Growth (%)</th>\n",
       "      <th>Annual Change</th>\n",
       "    </tr>\n",
       "    <tr>\n",
       "      <th>date</th>\n",
       "      <th></th>\n",
       "      <th></th>\n",
       "    </tr>\n",
       "  </thead>\n",
       "  <tbody>\n",
       "    <tr>\n",
       "      <th>2022-12-31</th>\n",
       "      <td>4.8466</td>\n",
       "      <td>-2.74</td>\n",
       "    </tr>\n",
       "    <tr>\n",
       "      <th>2022-12-30</th>\n",
       "      <td>7.5905</td>\n",
       "      <td>7.86</td>\n",
       "    </tr>\n",
       "    <tr>\n",
       "      <th>2022-12-29</th>\n",
       "      <td>7.5905</td>\n",
       "      <td>7.86</td>\n",
       "    </tr>\n",
       "    <tr>\n",
       "      <th>2022-12-28</th>\n",
       "      <td>7.5905</td>\n",
       "      <td>7.86</td>\n",
       "    </tr>\n",
       "    <tr>\n",
       "      <th>2022-12-27</th>\n",
       "      <td>7.5905</td>\n",
       "      <td>7.86</td>\n",
       "    </tr>\n",
       "  </tbody>\n",
       "</table>\n",
       "</div>"
      ],
      "text/plain": [
       "            GDP Growth (%)  Annual Change\n",
       "date                                     \n",
       "2022-12-31          4.8466          -2.74\n",
       "2022-12-30          7.5905           7.86\n",
       "2022-12-29          7.5905           7.86\n",
       "2022-12-28          7.5905           7.86\n",
       "2022-12-27          7.5905           7.86"
      ]
     },
     "execution_count": 61,
     "metadata": {},
     "output_type": "execute_result"
    }
   ],
   "source": [
    "# Set Date as index\n",
    "gdp_rsdf = gdp_growth_df.set_index('date', inplace=True)\n",
    "\n",
    "# Resample to daily frequency using forward fill (ffill) for missing values\n",
    "gdp_rsdf = gdp_growth_df.resample('D').ffill()\n",
    "\n",
    "# Reset the index to make 'date' a column again and sort by descending order\n",
    "gdp_rsdf = gdp_rsdf.sort_values(by='date', ascending=False)\n",
    "\n",
    "# Display the resulting DataFrame\n",
    "gdp_rsdf.head()"
   ]
  },
  {
   "cell_type": "markdown",
   "metadata": {},
   "source": [
    "### Interest Rates"
   ]
  },
  {
   "cell_type": "code",
   "execution_count": 63,
   "metadata": {},
   "outputs": [
    {
     "data": {
      "text/plain": [
       "True"
      ]
     },
     "execution_count": 63,
     "metadata": {},
     "output_type": "execute_result"
    }
   ],
   "source": [
    "# Set the Date column as the index\n",
    "interest_rate_df.set_index(\"Date\", inplace=True)\n",
    "# Check for duplicates \n",
    "interest_rate_df.index.duplicated().any()"
   ]
  },
  {
   "cell_type": "code",
   "execution_count": 64,
   "metadata": {},
   "outputs": [
    {
     "data": {
      "text/html": [
       "<div>\n",
       "<style scoped>\n",
       "    .dataframe tbody tr th:only-of-type {\n",
       "        vertical-align: middle;\n",
       "    }\n",
       "\n",
       "    .dataframe tbody tr th {\n",
       "        vertical-align: top;\n",
       "    }\n",
       "\n",
       "    .dataframe thead th {\n",
       "        text-align: right;\n",
       "    }\n",
       "</style>\n",
       "<table border=\"1\" class=\"dataframe\">\n",
       "  <thead>\n",
       "    <tr style=\"text-align: right;\">\n",
       "      <th></th>\n",
       "      <th>Rate</th>\n",
       "    </tr>\n",
       "    <tr>\n",
       "      <th>Date</th>\n",
       "      <th></th>\n",
       "    </tr>\n",
       "  </thead>\n",
       "  <tbody>\n",
       "    <tr>\n",
       "      <th>2008-08-06</th>\n",
       "      <td>9.0</td>\n",
       "    </tr>\n",
       "    <tr>\n",
       "      <th>2008-08-07</th>\n",
       "      <td>9.0</td>\n",
       "    </tr>\n",
       "    <tr>\n",
       "      <th>2008-08-08</th>\n",
       "      <td>9.0</td>\n",
       "    </tr>\n",
       "    <tr>\n",
       "      <th>2008-08-09</th>\n",
       "      <td>9.0</td>\n",
       "    </tr>\n",
       "    <tr>\n",
       "      <th>2008-08-10</th>\n",
       "      <td>9.0</td>\n",
       "    </tr>\n",
       "  </tbody>\n",
       "</table>\n",
       "</div>"
      ],
      "text/plain": [
       "            Rate\n",
       "Date            \n",
       "2008-08-06   9.0\n",
       "2008-08-07   9.0\n",
       "2008-08-08   9.0\n",
       "2008-08-09   9.0\n",
       "2008-08-10   9.0"
      ]
     },
     "execution_count": 64,
     "metadata": {},
     "output_type": "execute_result"
    }
   ],
   "source": [
    "# Remove duplicates\n",
    "interest_rate_df = interest_rate_df[~interest_rate_df.index.duplicated()]\n",
    "\n",
    "# Resample to daily values using the 'ffill' method to fill missing values with the previous value\n",
    "interest_rate_df = interest_rate_df.resample(\"D\").ffill()\n",
    "\n",
    "# Display the resulting DataFrame\n",
    "interest_rate_df.head()"
   ]
  },
  {
   "cell_type": "markdown",
   "metadata": {},
   "source": [
    "### Economic Growth"
   ]
  },
  {
   "cell_type": "code",
   "execution_count": 66,
   "metadata": {},
   "outputs": [
    {
     "data": {
      "text/html": [
       "<div>\n",
       "<style scoped>\n",
       "    .dataframe tbody tr th:only-of-type {\n",
       "        vertical-align: middle;\n",
       "    }\n",
       "\n",
       "    .dataframe tbody tr th {\n",
       "        vertical-align: top;\n",
       "    }\n",
       "\n",
       "    .dataframe thead th {\n",
       "        text-align: right;\n",
       "    }\n",
       "</style>\n",
       "<table border=\"1\" class=\"dataframe\">\n",
       "  <thead>\n",
       "    <tr style=\"text-align: right;\">\n",
       "      <th></th>\n",
       "      <th>Date</th>\n",
       "      <th>GDP (Billions of US $)</th>\n",
       "    </tr>\n",
       "  </thead>\n",
       "  <tbody>\n",
       "    <tr>\n",
       "      <th>0</th>\n",
       "      <td>1960-12-31</td>\n",
       "      <td>0.791265</td>\n",
       "    </tr>\n",
       "    <tr>\n",
       "      <th>1</th>\n",
       "      <td>1961-01-01</td>\n",
       "      <td>0.791265</td>\n",
       "    </tr>\n",
       "    <tr>\n",
       "      <th>2</th>\n",
       "      <td>1961-01-02</td>\n",
       "      <td>0.791265</td>\n",
       "    </tr>\n",
       "    <tr>\n",
       "      <th>3</th>\n",
       "      <td>1961-01-03</td>\n",
       "      <td>0.791265</td>\n",
       "    </tr>\n",
       "    <tr>\n",
       "      <th>4</th>\n",
       "      <td>1961-01-04</td>\n",
       "      <td>0.791265</td>\n",
       "    </tr>\n",
       "  </tbody>\n",
       "</table>\n",
       "</div>"
      ],
      "text/plain": [
       "        Date  GDP (Billions of US $)\n",
       "0 1960-12-31                0.791265\n",
       "1 1961-01-01                0.791265\n",
       "2 1961-01-02                0.791265\n",
       "3 1961-01-03                0.791265\n",
       "4 1961-01-04                0.791265"
      ]
     },
     "execution_count": 66,
     "metadata": {},
     "output_type": "execute_result"
    }
   ],
   "source": [
    "# Set 'Date' as the index\n",
    "economic_growth_df.set_index('Date', inplace=True)\n",
    "\n",
    "# Drop unnecessary columns\n",
    "economic_growth_df.drop(['Per Capita (US $)', 'Growth Rate (Annual % Change)'], axis=1, inplace=True)  \n",
    "\n",
    "# Resample to daily frequency, forward fill missing values\n",
    "economic_growth_df = economic_growth_df.resample('D').ffill()\n",
    "\n",
    "# Reset the index to make 'Date' a column again\n",
    "economic_growth_df.reset_index(inplace=True)\n",
    "\n",
    "economic_growth_df.head()"
   ]
  },
  {
   "cell_type": "markdown",
   "metadata": {},
   "source": [
    "### Merge Datasets"
   ]
  },
  {
   "cell_type": "code",
   "execution_count": 68,
   "metadata": {},
   "outputs": [],
   "source": [
    "# Set date column as indices in all dataframes\n",
    "daily_inflation_df.set_index(\"Date\", inplace=True)\n",
    "historical_prices_df.set_index(\"Date\", inplace=True)\n",
    "economic_growth_df.set_index(\"Date\", inplace=True)"
   ]
  },
  {
   "cell_type": "code",
   "execution_count": 69,
   "metadata": {},
   "outputs": [
    {
     "name": "stdout",
     "output_type": "stream",
     "text": [
      "<class 'pandas.core.frame.DataFrame'>\n",
      "DatetimeIndex: 3899 entries, 2024-01-10 to 2008-06-09\n",
      "Data columns (total 7 columns):\n",
      " #   Column  Non-Null Count  Dtype  \n",
      "---  ------  --------------  -----  \n",
      " 0   Open    3899 non-null   float64\n",
      " 1   High    3899 non-null   float64\n",
      " 2   Low     3899 non-null   float64\n",
      " 3   Close   3899 non-null   float64\n",
      " 4   Volume  3899 non-null   int64  \n",
      " 5   50_MA   3850 non-null   float64\n",
      " 6   Rate    3835 non-null   float64\n",
      "dtypes: float64(6), int64(1)\n",
      "memory usage: 403.7 KB\n"
     ]
    }
   ],
   "source": [
    "# Merge historical priced and interest rates\n",
    "merged_df = pd.merge(historical_prices_df, interest_rate_df, left_index=True, right_index=True, how='left')\n",
    "\n",
    "# Display the merged DataFrame\n",
    "merged_df.info()"
   ]
  },
  {
   "cell_type": "code",
   "execution_count": 70,
   "metadata": {},
   "outputs": [
    {
     "name": "stdout",
     "output_type": "stream",
     "text": [
      "Number of dates with null values in 2008: 42\n",
      "Number of dates with null values in 2023-2024: 49\n"
     ]
    }
   ],
   "source": [
    "# Extract the years from the index\n",
    "years_with_nulls =merged_df[merged_df.isnull().any(axis=1)].index.year\n",
    "\n",
    "# Count occurrences in 2008 and 2023-2024\n",
    "count_2008 = (years_with_nulls == 2008).sum()\n",
    "count_2023_2024 = ((years_with_nulls >= 2023) & (years_with_nulls <= 2024)).sum()\n",
    "\n",
    "print(f\"Number of dates with null values in 2008: {count_2008}\")\n",
    "print(f\"Number of dates with null values in 2023-2024: {count_2023_2024}\")"
   ]
  },
  {
   "cell_type": "code",
   "execution_count": 71,
   "metadata": {},
   "outputs": [
    {
     "name": "stdout",
     "output_type": "stream",
     "text": [
      "<class 'pandas.core.frame.DataFrame'>\n",
      "DatetimeIndex: 3899 entries, 2024-01-10 to 2008-06-09\n",
      "Data columns (total 7 columns):\n",
      " #   Column  Non-Null Count  Dtype  \n",
      "---  ------  --------------  -----  \n",
      " 0   Open    3899 non-null   float64\n",
      " 1   High    3899 non-null   float64\n",
      " 2   Low     3899 non-null   float64\n",
      " 3   Close   3899 non-null   float64\n",
      " 4   Volume  3899 non-null   int64  \n",
      " 5   50_MA   3850 non-null   float64\n",
      " 6   Rate    3899 non-null   float64\n",
      "dtypes: float64(6), int64(1)\n",
      "memory usage: 403.7 KB\n"
     ]
    }
   ],
   "source": [
    "# Use ffill to fill last 42 rows\n",
    "merged_df['Rate'].ffill(inplace=True)\n",
    "\n",
    "# Use ffill to fill first 21 rows\n",
    "merged_df['Rate'].bfill(inplace=True)\n",
    "merged_df.info()"
   ]
  },
  {
   "cell_type": "code",
   "execution_count": 72,
   "metadata": {},
   "outputs": [
    {
     "name": "stdout",
     "output_type": "stream",
     "text": [
      "<class 'pandas.core.frame.DataFrame'>\n",
      "DatetimeIndex: 3919 entries, 2008-06-09 to 2024-01-10\n",
      "Data columns (total 8 columns):\n",
      " #   Column                    Non-Null Count  Dtype  \n",
      "---  ------                    --------------  -----  \n",
      " 0   Open                      3919 non-null   float64\n",
      " 1   High                      3919 non-null   float64\n",
      " 2   Low                       3919 non-null   float64\n",
      " 3   Close                     3919 non-null   float64\n",
      " 4   Volume                    3919 non-null   int64  \n",
      " 5   50_MA                     3870 non-null   float64\n",
      " 6   Rate                      3919 non-null   float64\n",
      " 7   Annual_Average_Inflation  3912 non-null   float64\n",
      "dtypes: float64(7), int64(1)\n",
      "memory usage: 275.6 KB\n"
     ]
    }
   ],
   "source": [
    "# Merge historical prices and daily_inflation_df\n",
    "merged_df = pd.merge(merged_df, daily_inflation_df, left_index=True, right_index=True, how='left')\n",
    "\n",
    "# Display the merged DataFrame\n",
    "merged_df.info()"
   ]
  },
  {
   "cell_type": "code",
   "execution_count": 73,
   "metadata": {},
   "outputs": [
    {
     "name": "stdout",
     "output_type": "stream",
     "text": [
      "<class 'pandas.core.frame.DataFrame'>\n",
      "DatetimeIndex: 3919 entries, 2008-06-09 to 2024-01-10\n",
      "Data columns (total 8 columns):\n",
      " #   Column                    Non-Null Count  Dtype  \n",
      "---  ------                    --------------  -----  \n",
      " 0   Open                      3919 non-null   float64\n",
      " 1   High                      3919 non-null   float64\n",
      " 2   Low                       3919 non-null   float64\n",
      " 3   Close                     3919 non-null   float64\n",
      " 4   Volume                    3919 non-null   int64  \n",
      " 5   50_MA                     3870 non-null   float64\n",
      " 6   Rate                      3919 non-null   float64\n",
      " 7   Annual_Average_Inflation  3919 non-null   float64\n",
      "dtypes: float64(7), int64(1)\n",
      "memory usage: 275.6 KB\n"
     ]
    }
   ],
   "source": [
    "# Use ffill to fill null values\n",
    "merged_df['Annual_Average_Inflation'].ffill(inplace=True)\n",
    "merged_df.info()"
   ]
  },
  {
   "cell_type": "code",
   "execution_count": 74,
   "metadata": {},
   "outputs": [],
   "source": [
    "# # Merge historical prices and gdp\n",
    "# merged_df = pd.merge(merged_df, economic_growth_df, left_index=True, right_index=True, how='left')\n",
    "\n",
    "# # Display the merged DataFrame\n",
    "# merged_df.info()"
   ]
  },
  {
   "cell_type": "code",
   "execution_count": 75,
   "metadata": {},
   "outputs": [
    {
     "name": "stdout",
     "output_type": "stream",
     "text": [
      "Number of duplicates in merged_df: 20\n"
     ]
    }
   ],
   "source": [
    "# Check for duplicates\n",
    "num_duplicates_merged = merged_df.index.duplicated().sum()\n",
    "print(f\"Number of duplicates in merged_df: {num_duplicates_merged}\")"
   ]
  },
  {
   "cell_type": "code",
   "execution_count": 76,
   "metadata": {},
   "outputs": [],
   "source": [
    "# Drop duplicates in merged_df\n",
    "merged_df = merged_df[~merged_df.index.duplicated(keep='first')]"
   ]
  },
  {
   "cell_type": "code",
   "execution_count": 77,
   "metadata": {},
   "outputs": [],
   "source": [
    "# Create copy of dataset\n",
    "merged_df =merged_df.copy()\n",
    "\n",
    "# Engineer additional features, such as moving averages\n",
    "merged_df['50_MA'] = merged_df['Close'].rolling(window=50).mean()\n",
    "merged_df['10_MA'] = merged_df['Close'].rolling(window=10).mean()\n",
    "merged_df['200_MA'] = merged_df['Close'].rolling(window=200).mean()"
   ]
  },
  {
   "cell_type": "code",
   "execution_count": null,
   "metadata": {},
   "outputs": [],
   "source": []
  },
  {
   "cell_type": "code",
   "execution_count": null,
   "metadata": {},
   "outputs": [],
   "source": []
  },
  {
   "cell_type": "code",
   "execution_count": null,
   "metadata": {},
   "outputs": [],
   "source": []
  }
 ],
 "metadata": {
  "kernelspec": {
   "display_name": "Python 3 (ipykernel)",
   "language": "python",
   "name": "python3"
  },
  "language_info": {
   "codemirror_mode": {
    "name": "ipython",
    "version": 3
   },
   "file_extension": ".py",
   "mimetype": "text/x-python",
   "name": "python",
   "nbconvert_exporter": "python",
   "pygments_lexer": "ipython3",
   "version": "3.11.5"
  }
 },
 "nbformat": 4,
 "nbformat_minor": 4
}
